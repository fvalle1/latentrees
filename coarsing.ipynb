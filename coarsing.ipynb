{
 "cells": [
  {
   "cell_type": "code",
   "execution_count": null,
   "metadata": {},
   "outputs": [],
   "source": [
    "import numpy as np\n",
    "import plotly.graph_objects as go\n",
    "from coarsing import coarse_vec, pdfize"
   ]
  },
  {
   "cell_type": "code",
   "execution_count": null,
   "metadata": {},
   "outputs": [],
   "source": [
    "rng = np.random.default_rng()"
   ]
  },
  {
   "cell_type": "code",
   "execution_count": null,
   "metadata": {},
   "outputs": [],
   "source": [
    "vec = np.genfromtxt(\"independentrees/randoms.dat\")\n",
    "#vec = [1/x for x in np.linspace(1,50000, num=50000)]\n",
    "#vec = rng.normal(10,0.5,size=5000)\n",
    "vec = vec/sum(vec)\n",
    "len(vec)"
   ]
  },
  {
   "cell_type": "code",
   "execution_count": null,
   "metadata": {},
   "outputs": [],
   "source": [
    "multiple_coarsed = [vec]\n",
    "figures = []\n",
    "for window in [10, 5, 2]:\n",
    "    coarsed = coarse_vec(multiple_coarsed[-1], window = window)\n",
    "    coarsed = coarsed/coarsed.sum()\n",
    "    multiple_coarsed.append(coarsed)\n",
    "    figures.append(go.Scatter(y=np.sort(coarsed)[::-1], mode=\"lines\", line_width=5, name=f\"coarsed_{window}\"))\n",
    "\n",
    "coarsed = coarse_vec(vec,window=5)\n",
    "coarsed = coarsed/coarsed.sum()\n"
   ]
  },
  {
   "cell_type": "code",
   "execution_count": null,
   "metadata": {},
   "outputs": [],
   "source": [
    "fig = go.Figure()\n",
    "fig.add_traces(\n",
    "    [\n",
    "        go.Scatter(y=np.sort(vec)[::-1], mode=\"lines\", line_color=\"gray\", line_width=15),\n",
    "        go.Scatter(y=np.sort(coarsed)[::-1], mode=\"lines\", line_color=\"orange\", line_width=5, name=\"coarsed\"),\n",
    "        go.Scatter(y=np.sort(pdfize(vec))[::-1], mode=\"lines\", line_color=\"blue\", line_width=5, name=\"pdf\")\n",
    "    ]\n",
    ")\n",
    "\n",
    "fig.add_traces(figures)\n",
    "\n",
    "layout = dict()\n",
    "layout[\"xaxis\"] = dict()\n",
    "layout[\"xaxis\"][\"title\"]=\"rank\"\n",
    "layout[\"xaxis\"][\"type\"]=\"log\"\n",
    "layout[\"xaxis\"][\"exponentformat\"]=\"e\"\n",
    "layout[\"yaxis\"] = dict()\n",
    "layout[\"yaxis\"][\"title\"]=\"freq\"\n",
    "layout[\"yaxis\"][\"type\"]=\"log\"\n",
    "layout[\"yaxis\"][\"exponentformat\"]=\"e\"\n",
    "fig.update_layout(layout)\n",
    "fig.show()\n",
    "#fig.write_image(\"test.pdf\")"
   ]
  },
  {
   "cell_type": "code",
   "execution_count": null,
   "metadata": {},
   "outputs": [],
   "source": []
  }
 ],
 "metadata": {
  "kernelspec": {
   "display_name": "Python 3",
   "language": "python",
   "name": "python3"
  },
  "language_info": {
   "codemirror_mode": {
    "name": "ipython",
    "version": 3
   },
   "file_extension": ".py",
   "mimetype": "text/x-python",
   "name": "python",
   "nbconvert_exporter": "python",
   "pygments_lexer": "ipython3",
   "version": "3.8.6-final"
  }
 },
 "nbformat": 4,
 "nbformat_minor": 4
}
