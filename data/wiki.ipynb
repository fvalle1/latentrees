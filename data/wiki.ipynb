{
 "cells": [
  {
   "cell_type": "code",
   "execution_count": null,
   "id": "b37925cf",
   "metadata": {
    "tags": []
   },
   "outputs": [],
   "source": [
    "%load_ext watermark\n",
    "%load_ext jupyternotify\n",
    "%watermark  -a Filippo_Valle -v -m -g -r -v -p pandas,numpy,matplotlib,regex,wikipediaapi,sklearn"
   ]
  },
  {
   "cell_type": "code",
   "execution_count": null,
   "id": "cce98076",
   "metadata": {},
   "outputs": [],
   "source": [
    "import requests\n",
    "import pandas as pd\n",
    "import numpy as np\n",
    "import gc\n",
    "import matplotlib.pyplot as plt\n",
    "import multiprocessing as mp\n",
    "from sklearn.feature_extraction.text import CountVectorizer"
   ]
  },
  {
   "cell_type": "code",
   "execution_count": null,
   "id": "ef10f214-bdc1-4a27-9bc5-6b0e3d8f2f21",
   "metadata": {},
   "outputs": [],
   "source": [
    "%load_ext autoreload\n",
    "%autoreload 2\n",
    "from nlp import process_phrase"
   ]
  },
  {
   "cell_type": "code",
   "execution_count": null,
   "id": "bc8f6b1c-3cba-423e-8b4d-127e88f2ad02",
   "metadata": {},
   "outputs": [],
   "source": [
    "import wikipediaapi\n",
    "wiki_wiki = wikipediaapi.Wikipedia('en', extract_format=wikipediaapi.ExtractFormat.WIKI)"
   ]
  },
  {
   "cell_type": "code",
   "execution_count": null,
   "id": "0cd574ff-4e1c-4008-ba20-c96cf6e7d044",
   "metadata": {},
   "outputs": [],
   "source": [
    "def zeromean(arr):\n",
    "    return np.mean(arr[arr>0])"
   ]
  },
  {
   "cell_type": "code",
   "execution_count": null,
   "id": "818ff23a-6457-4fa7-99b7-daa6a14fb23a",
   "metadata": {},
   "outputs": [],
   "source": [
    "def print_categories(page):\n",
    "        categories = page.categories\n",
    "        for title in sorted(categories.keys()):\n",
    "            print(\"%s: %s\" % (title, categories[title]))\n",
    "\n",
    "\n",
    "print(\"Categories\")\n",
    "page_py = wiki_wiki.page('Ansatz')\n",
    "print_categories(page_py)\n",
    "process_phrase(str(page_py.text))"
   ]
  },
  {
   "cell_type": "code",
   "execution_count": null,
   "id": "c6e9aeea-7f71-4021-a0e2-64ca0af98250",
   "metadata": {
    "tags": []
   },
   "outputs": [],
   "source": [
    "def print_categorymembers(categorymembers, level=0, max_level=1):\n",
    "        for c in categorymembers.values():\n",
    "            print(\"%s: %s (ns: %d)\" % (\"*\" * (level + 1), c.title, c.ns))\n",
    "            ##c.ns == 14 -> category\n",
    "            ##c.ns == 0 -> article\n",
    "            if c.ns == wikipediaapi.Namespace.CATEGORY and level < max_level:\n",
    "                print_categorymembers(c.categorymembers, level=level + 1, max_level=max_level)\n",
    "\n",
    "\n",
    "cat = wiki_wiki.page(\"Category:Physics\")\n",
    "print(\"Category members: Category:Physics\")\n",
    "print_categorymembers(cat.categorymembers, max_level=1)"
   ]
  },
  {
   "cell_type": "code",
   "execution_count": null,
   "id": "b9094a51-0195-4554-8c1b-9717f0132f53",
   "metadata": {
    "tags": []
   },
   "outputs": [],
   "source": [
    "def get_titles(cat):\n",
    "    titles = []\n",
    "\n",
    "    def append_title(title):\n",
    "        if not (title in titles): #avoid duplicates\n",
    "            titles.append(title)\n",
    "    \n",
    "    def append_titles(cat, level=0, max_level=1):\n",
    "        global titles\n",
    "        for c in cat.categorymembers.values():\n",
    "            #print(\"%s (ns: %d)\" % (c.title, c.ns))\n",
    "            ##c.ns == 14 -> category\n",
    "            ##c.ns == 0 -> article\n",
    "            if c.ns == wikipediaapi.Namespace.MAIN:\n",
    "                append_title(c.title)\n",
    "            elif c.ns == wikipediaapi.Namespace.CATEGORY and level < max_level:\n",
    "                    append_titles(c, level=level + 1, max_level=max_level)\n",
    "\n",
    "    append_titles(cat, 0, 1)\n",
    "    return titles\n",
    "\n",
    "cat = wiki_wiki.page(\"Category:Physics\")\n",
    "\n",
    "titles = np.unique(get_titles(cat) + get_titles(wiki_wiki.page(\"Category:Biology\")))\n",
    "gc.collect()\n",
    "titles[:5], len(titles)"
   ]
  },
  {
   "cell_type": "code",
   "execution_count": null,
   "id": "20e19e1c-6879-41d0-a4f1-bce6347ffc11",
   "metadata": {},
   "outputs": [],
   "source": [
    "def get_subcats(cat):\n",
    "    cats = []\n",
    "\n",
    "    def append_cat(cat):\n",
    "        if not (cat in cats): #avoid duplicates\n",
    "            cats.append(cat.split(\":\")[1])\n",
    "    \n",
    "    def append_cats(cat, level=0, max_level=1):\n",
    "        global titles\n",
    "        for c in cat.categorymembers.values():\n",
    "            #print(\"%s (ns: %d)\" % (c.title, c.ns))\n",
    "            ##c.ns == 14 -> category\n",
    "            ##c.ns == 0 -> article\n",
    "            if c.ns == wikipediaapi.Namespace.CATEGORY and level < max_level:\n",
    "                append_cat(c.title)\n",
    "                append_cats(c, level=level + 1, max_level=max_level)\n",
    "\n",
    "    append_cats(cat, 0, 1)\n",
    "    return cats\n",
    "\n",
    "categories = get_subcats(cat) + get_subcats(wiki_wiki.page(\"Category:Biology\"))\n",
    "gc.collect()\n",
    "categories[:5], len(categories)"
   ]
  },
  {
   "cell_type": "code",
   "execution_count": null,
   "id": "178dedf9-c19b-4863-928d-39a551dee075",
   "metadata": {},
   "outputs": [],
   "source": [
    "def get_text(title):\n",
    "    try:\n",
    "        page_py = wiki_wiki.page(title)\n",
    "        text = process_phrase(str(page_py.text))\n",
    "        return text\n",
    "    except:\n",
    "        return \"\"\n",
    "    \n",
    "pool = mp.Pool(12)\n",
    "w = pool.map_async(get_text, titles)\n",
    "pool.close()\n",
    "pool.join()\n",
    "\n",
    "corpus = w.get()"
   ]
  },
  {
   "cell_type": "code",
   "execution_count": null,
   "id": "b1012439-a1d6-4389-ae40-1109586e737d",
   "metadata": {},
   "outputs": [],
   "source": [
    "vectorizer = CountVectorizer()\n",
    "df = pd.DataFrame(data = vectorizer.fit_transform(corpus).toarray().T,\n",
    "                  index = vectorizer.get_feature_names_out(),\n",
    "                  columns = titles,\n",
    "                  dtype=int)\n",
    "df.head()"
   ]
  },
  {
   "cell_type": "code",
   "execution_count": null,
   "id": "446a1a0c-ae6e-412a-8eff-3af16dd61479",
   "metadata": {},
   "outputs": [],
   "source": [
    "df = df.reindex(columns=df.columns[df.apply(lambda x: (x>0).sum()>20, 0)], #documents with 20 words\n",
    "           index=df.index[df.apply(lambda x: (x>0).sum()/len(x)>0.01, 1)]) #words in 1% of documents\n",
    "df.shape"
   ]
  },
  {
   "cell_type": "code",
   "execution_count": null,
   "id": "070a2ce2",
   "metadata": {},
   "outputs": [],
   "source": [
    "url = \"https://en.wikipedia.org/w/api.php\"\n",
    "\n",
    "def get_categories(title):\n",
    "    params = {\n",
    "        \"action\": \"query\",\n",
    "        \"format\": \"json\",\n",
    "        \"prop\": \"categories\",\n",
    "        \"titles\": title\n",
    "    }\n",
    "    to_ret = []\n",
    "    \n",
    "    try:\n",
    "        with requests.get(url=url, params=params, timeout=1) as req:\n",
    "            if req.status_code==200:\n",
    "                data = req.json()\n",
    "                pages = data[\"query\"][\"pages\"]\n",
    "                for k, v in pages.items():\n",
    "                    if \"categories\" not in v.keys():\n",
    "                        continue\n",
    "                    for cat in v['categories'][:10]: #some articles have an enourmous number of categories ([:100])\n",
    "                        to_ret.append(cat[\"title\"].split(\":\")[1])\n",
    "            else:\n",
    "                print(req.status_code)\n",
    "                return None\n",
    "    except:\n",
    "        print(\"Timed out\")\n",
    "        return None\n",
    "    gc.collect()\n",
    "    return to_ret"
   ]
  },
  {
   "cell_type": "code",
   "execution_count": null,
   "id": "b7bd631d-1db7-43d4-a09a-35638f72a1ce",
   "metadata": {},
   "outputs": [],
   "source": [
    "get_categories(titles[40])"
   ]
  },
  {
   "cell_type": "code",
   "execution_count": null,
   "id": "ab90d88f",
   "metadata": {
    "tags": []
   },
   "outputs": [],
   "source": [
    "pool = mp.Pool(12)\n",
    "w = pool.map_async(get_categories, titles, error_callback=lambda err: print(err))\n",
    "pool.close()\n",
    "pool.join()\n",
    "gc.collect()\n",
    "\n",
    "corpus_categories = w.get()\n",
    "max(map(len, filter(lambda x: x is not None, corpus_categories)))"
   ]
  },
  {
   "cell_type": "code",
   "execution_count": null,
   "id": "e6cbe116-883f-4696-895e-c6c6e761edbf",
   "metadata": {
    "tags": []
   },
   "outputs": [],
   "source": [
    "df_files = pd.DataFrame()\n",
    "count_skipped = 0\n",
    "old_shape = 0\n",
    "for i, (title, categories) in enumerate(zip(titles, corpus_categories)):\n",
    "    if (i % 250) == 0:\n",
    "        print(i)\n",
    "        print(df_files.shape)\n",
    "        gc.collect()\n",
    "    if categories is None:\n",
    "        count_skipped += 1\n",
    "        print(f\"skipping {title}\")\n",
    "        continue\n",
    "    if title not in df_files.columns: #avoid duplicates on this cell\n",
    "        if len(categories) > 10:\n",
    "            print(\"*************\")\n",
    "            break\n",
    "        df_files = df_files.join(pd.Series(name=title, index=categories, data = 1, dtype=int), how = \"outer\")\n",
    "print(f\"{count_skipped} were skipped due to time out req\")\n",
    "print(df_files.shape)"
   ]
  },
  {
   "cell_type": "code",
   "execution_count": null,
   "id": "5962ceb1",
   "metadata": {},
   "outputs": [],
   "source": [
    "df_files = df_files.fillna(0).astype(int).drop_duplicates()"
   ]
  },
  {
   "cell_type": "code",
   "execution_count": null,
   "id": "6955ac10",
   "metadata": {},
   "outputs": [],
   "source": [
    "df_files = df_files.reindex(index=df_files.index[(df_files.sum(1)>1)].drop_duplicates()).transpose()"
   ]
  },
  {
   "cell_type": "code",
   "execution_count": null,
   "id": "cbabe5ad-0d08-4441-a3c2-12ab44950101",
   "metadata": {},
   "outputs": [],
   "source": [
    "df_files.columns[df_files.sum(0) > 2]"
   ]
  },
  {
   "cell_type": "code",
   "execution_count": null,
   "id": "9f8efb37-38f2-41a3-8b32-543b56319ad1",
   "metadata": {},
   "outputs": [],
   "source": [
    "df_files.head()"
   ]
  },
  {
   "cell_type": "code",
   "execution_count": null,
   "id": "256010d5-94a2-489a-ae65-cd70feaa6196",
   "metadata": {},
   "outputs": [],
   "source": [
    "df = df.divide(df.sum(0),1)"
   ]
  },
  {
   "cell_type": "code",
   "execution_count": null,
   "id": "530302d2-3b3d-4d4b-82da-2c53879ff474",
   "metadata": {},
   "outputs": [],
   "source": [
    "plt.plot(df.mean(1).sort_values(ascending=False).values.ravel())\n",
    "plt.plot([1, df.shape[0]], [0.1, 0.1/df.shape[0]])\n",
    "plt.xlim(1, df.shape[0])\n",
    "plt.yscale(\"log\")\n",
    "plt.xscale(\"log\")"
   ]
  },
  {
   "cell_type": "code",
   "execution_count": null,
   "id": "dae9e2cc-24fc-4d53-9c6f-a01bf21bfacd",
   "metadata": {},
   "outputs": [],
   "source": [
    "df.mean(1).sort_values(ascending=False)[10:20]"
   ]
  },
  {
   "cell_type": "code",
   "execution_count": null,
   "id": "68db03af-272d-46fa-9632-344b2f62bdd7",
   "metadata": {},
   "outputs": [],
   "source": [
    "fig, ax = plt.subplots()\n",
    "\n",
    "bins = np.linspace(0, 0.2)\n",
    "\n",
    "df.loc[\"the\", :].hist(ax=ax, histtype=\"step\", bins=bins, density=True, label = \"the\")\n",
    "df.loc[\"atom\", :].hist(ax=ax, histtype=\"step\", bins=bins, density=True, label=\"atom\")\n",
    "plt.xlabel(\"f\")\n",
    "plt.ylabel(\"pdf\")\n",
    "plt.yscale(\"log\")\n",
    "plt.legend()"
   ]
  },
  {
   "cell_type": "code",
   "execution_count": null,
   "id": "f1aa06ca-8b04-4f3b-a24c-c220b56aa809",
   "metadata": {},
   "outputs": [],
   "source": [
    "df.to_csv(\"df.csv\", index=True, header=True)\n",
    "df_files.to_csv(\"df_files.csv\", index=True, header=True)"
   ]
  },
  {
   "cell_type": "code",
   "execution_count": null,
   "id": "e30a81c2-66ef-4b29-b22b-c46204e19802",
   "metadata": {},
   "outputs": [],
   "source": [
    "categories = get_subcats(wiki_wiki.page(\"Category:Physics stubs\"))\n",
    "print(categories)\n",
    "list(filter(lambda x: x in df_files.columns, categories))"
   ]
  },
  {
   "cell_type": "code",
   "execution_count": null,
   "id": "ed3acf68-9352-4afd-9ea2-00acbce47d40",
   "metadata": {},
   "outputs": [],
   "source": [
    "df_files[df_files.columns[df_files.sum(0)>50]].sum(0)"
   ]
  },
  {
   "cell_type": "code",
   "execution_count": null,
   "id": "f359d0aa-45b1-4e19-9643-47c1636db3a3",
   "metadata": {},
   "outputs": [],
   "source": [
    "[file for file in df_files.columns if \"theo\" in file]"
   ]
  },
  {
   "cell_type": "code",
   "execution_count": null,
   "id": "aa8b25b5-12f0-4306-aa35-ba4eeaaf5a9d",
   "metadata": {},
   "outputs": [],
   "source": [
    "latent_categories = [['Physics stubs', \"Biology\"], [\"Theoretical physics\", \"Statistical mechanics\"], [\"String theory\", \"Quantum field theory\"]]"
   ]
  },
  {
   "cell_type": "code",
   "execution_count": null,
   "id": "31dc6684-aecc-468a-99cf-977cbcbfcfbd",
   "metadata": {},
   "outputs": [],
   "source": [
    "def get_files(category):\n",
    "    subfiles = df_files[df_files.columns[df_files.columns==category]]\n",
    "    subfiles = subfiles[subfiles.sum(1)>=1].index\n",
    "    return subfiles"
   ]
  },
  {
   "cell_type": "code",
   "execution_count": null,
   "id": "6cf025e4-b6a0-444d-b3a2-55d0d3eb2a9b",
   "metadata": {},
   "outputs": [],
   "source": [
    "subfiles = get_files(latent_categories[2][0])\n",
    "df[df.columns[df.columns.isin(subfiles)]].mean(1).sort_values(ascending=False)[:15]"
   ]
  },
  {
   "cell_type": "code",
   "execution_count": null,
   "id": "5ed77aac-2c00-4e15-9ebf-d7f2ef1251d4",
   "metadata": {},
   "outputs": [],
   "source": [
    "fig, axs = plt.subplots(1, 4, figsize=(21, 7))\n",
    "\n",
    "word = \"field\"\n",
    "\n",
    "ax.set_title(word)\n",
    "\n",
    "bins = np.linspace(0, df.loc[word, :].max(), 15)\n",
    "##all\n",
    "subdf = df.loc[word, :]\n",
    "subdf = subdf[subdf>0]\n",
    "subdf.hist(ax=axs[0], histtype=\"step\", bins=bins, lw=5, density=True, label=word)\n",
    "\n",
    "axs[0].set_title(\"Wikipedia\", fontsize=35)\n",
    "\n",
    "def append_plot(ax, cat):\n",
    "    subdf = df[df.columns[df.columns.isin(get_files(cat))]].loc[word, :]\n",
    "    subdf = subdf[subdf>0]\n",
    "    subdf.hist(ax=ax, histtype=\"step\", bins=bins, lw=5, density=True, label=cat)\n",
    "\n",
    "#coarse\n",
    "append_plot(axs[1], latent_categories[0][0])\n",
    "append_plot(axs[1], latent_categories[0][1])\n",
    "axs[1].set_title(\"coarse\", fontsize=35)\n",
    "\n",
    "#fine\n",
    "append_plot(axs[2], latent_categories[1][0])\n",
    "append_plot(axs[2], latent_categories[1][1])\n",
    "axs[2].set_title(\"fine\", fontsize=35)\n",
    "\n",
    "#ultra fine\n",
    "append_plot(axs[3], latent_categories[2][0])\n",
    "append_plot(axs[3], latent_categories[2][1])\n",
    "axs[3].set_title(\"ultra-fine\", fontsize=35)\n",
    "\n",
    "\n",
    "for ax in axs:\n",
    "        ax.set_xlabel(\"mean word f\", fontsize=25)\n",
    "        ax.tick_params(labelsize=12, length=8, width=5)\n",
    "        ax.tick_params(which=\"minor\", length=5, width=3)\n",
    "        ax.set_yscale(\"log\")\n",
    "        ax.legend(fontsize=15)\n",
    "\n",
    "plt.show()"
   ]
  },
  {
   "cell_type": "code",
   "execution_count": null,
   "id": "7092c251-7860-418c-9d28-7b82ff53cfa1",
   "metadata": {},
   "outputs": [],
   "source": []
  }
 ],
 "metadata": {
  "kernelspec": {
   "display_name": "Python 3 (ipykernel)",
   "language": "python",
   "name": "python3"
  },
  "language_info": {
   "codemirror_mode": {
    "name": "ipython",
    "version": 3
   },
   "file_extension": ".py",
   "mimetype": "text/x-python",
   "name": "python",
   "nbconvert_exporter": "python",
   "pygments_lexer": "ipython3",
   "version": "3.8.5"
  }
 },
 "nbformat": 4,
 "nbformat_minor": 5
}
