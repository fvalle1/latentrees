{
 "cells": [
  {
   "cell_type": "code",
   "execution_count": null,
   "id": "ec89f8ab-5794-4160-9a57-b2284b7aa614",
   "metadata": {
    "colab": {
     "base_uri": "https://localhost:8080/"
    },
    "id": "ec89f8ab-5794-4160-9a57-b2284b7aa614",
    "outputId": "ba0c7397-c208-42c1-cab3-9e4d976f9779"
   },
   "outputs": [],
   "source": [
    "%load_ext autoreload\n",
    "%autoreload 2\n",
    "from cifar import get_label, mapping, coarse_label"
   ]
  },
  {
   "cell_type": "code",
   "execution_count": null,
   "id": "cd142afc-bd1c-40bc-914e-94a69850ae4e",
   "metadata": {
    "id": "cd142afc-bd1c-40bc-914e-94a69850ae4e"
   },
   "outputs": [],
   "source": [
    "import tensorflow as tf\n",
    "\n",
    "import tensorflow.keras as keras\n",
    "\n",
    "import pandas as pd\n",
    "import numpy as np\n",
    "import gc\n",
    "import random\n",
    "import matplotlib.pyplot as plt\n",
    "\n",
    "device = tf.device(\"gpu\" if len(tf.config.list_physical_devices(\"GPU\"))>0 else \"cpu\")"
   ]
  },
  {
   "cell_type": "code",
   "execution_count": null,
   "id": "_TtQZZjhuf1Y",
   "metadata": {
    "colab": {
     "base_uri": "https://localhost:8080/"
    },
    "id": "_TtQZZjhuf1Y",
    "outputId": "67c06d24-eceb-4194-9277-24f541133df7"
   },
   "outputs": [],
   "source": [
    "!nvidia-smi"
   ]
  },
  {
   "cell_type": "code",
   "execution_count": null,
   "id": "6100548b-bf3c-46cd-ba0f-60d94a957b17",
   "metadata": {
    "id": "6100548b-bf3c-46cd-ba0f-60d94a957b17"
   },
   "outputs": [],
   "source": [
    "(x_train, y_train), (x_test, y_test) = keras.datasets.cifar100.load_data()\n",
    "assert x_train.shape == (50000, 32, 32, 3)\n",
    "assert x_test.shape == (10000, 32, 32, 3)\n",
    "assert y_train.shape == (50000, 1)\n",
    "assert y_test.shape == (10000, 1)"
   ]
  },
  {
   "cell_type": "code",
   "execution_count": null,
   "id": "8e7e0715-bfe4-4312-b95d-be7a3aa85452",
   "metadata": {
    "id": "8e7e0715-bfe4-4312-b95d-be7a3aa85452"
   },
   "outputs": [],
   "source": [
    "x_train = tf.cast(tf.reshape(tf.image.rgb_to_grayscale(x_train), (-1, 32, 32, 1)), dtype=tf.float32) / 255.\n",
    "y_train = y_train\n",
    "\n",
    "x_test = tf.cast(tf.reshape(tf.image.rgb_to_grayscale(x_test), (-1, 32, 32, 1)), dtype=tf.float32) / 255.\n",
    "y_test = y_test"
   ]
  },
  {
   "cell_type": "code",
   "execution_count": null,
   "id": "d30884a1-7c0a-4d26-8269-906a545ae682",
   "metadata": {
    "colab": {
     "base_uri": "https://localhost:8080/",
     "height": 299
    },
    "id": "d30884a1-7c0a-4d26-8269-906a545ae682",
    "outputId": "6f5fc5e9-7752-446d-c868-41712b29b3f6"
   },
   "outputs": [],
   "source": [
    "i = random.randint(0, 50000)\n",
    "plt.title(get_label(y_train[i][0]))\n",
    "plt.imshow(x_train[i][:,:,0], cmap=\"gray\")"
   ]
  },
  {
   "cell_type": "code",
   "execution_count": null,
   "id": "5db331dc-9d52-4a2b-9c88-35b9a07b1ba2",
   "metadata": {
    "id": "5db331dc-9d52-4a2b-9c88-35b9a07b1ba2"
   },
   "outputs": [],
   "source": [
    "model = tf.keras.Sequential([\n",
    "    tf.keras.layers.Conv2D(256, (3,3), use_bias=False, activation = \"relu\"),\n",
    "    tf.keras.layers.Flatten(),\n",
    "    tf.keras.layers.Dense(100, activation=\"softmax\")\n",
    "                           ])\n",
    "    \n",
    "model.compile(optimizer=tf.keras.optimizers.Adam(), \n",
    "              loss=tf.keras.losses.sparse_categorical_crossentropy, \n",
    "              metrics = [\"accuracy\"])"
   ]
  },
  {
   "cell_type": "code",
   "execution_count": null,
   "id": "4302d7d8-0b69-4986-9d73-5d569a1f1c12",
   "metadata": {
    "colab": {
     "base_uri": "https://localhost:8080/"
    },
    "id": "4302d7d8-0b69-4986-9d73-5d569a1f1c12",
    "outputId": "9d75d0b2-4c51-431c-ce61-346770e2ee1b"
   },
   "outputs": [],
   "source": [
    "with device:\n",
    "    model.fit(x_train, y_train, epochs = 2, batch_size=64)"
   ]
  },
  {
   "cell_type": "code",
   "execution_count": null,
   "id": "00daa182-d0e4-4bac-9dcb-54299330e301",
   "metadata": {
    "colab": {
     "base_uri": "https://localhost:8080/"
    },
    "id": "00daa182-d0e4-4bac-9dcb-54299330e301",
    "outputId": "3f79a9a0-5885-432c-b401-9a6c756d66cd"
   },
   "outputs": [],
   "source": [
    "with device:\n",
    "    model.evaluate(x_test, y_test)"
   ]
  },
  {
   "cell_type": "code",
   "execution_count": null,
   "id": "bddefd85-4f15-46ce-becb-73ff3a639b68",
   "metadata": {
    "id": "bddefd85-4f15-46ce-becb-73ff3a639b68"
   },
   "outputs": [],
   "source": [
    "filters = tf.transpose(model.layers[0].weights[0], [2, 3, 0, 1])[0]"
   ]
  },
  {
   "cell_type": "code",
   "execution_count": null,
   "id": "53d66ea9-479b-4f5b-863e-3edfa251ea34",
   "metadata": {
    "colab": {
     "base_uri": "https://localhost:8080/",
     "height": 287
    },
    "id": "53d66ea9-479b-4f5b-863e-3edfa251ea34",
    "outputId": "33e0c9ce-ed75-4839-d304-acf96ea3cc31"
   },
   "outputs": [],
   "source": [
    "i = random.randint(0, 256)\n",
    "plt.imshow(filters[i], cmap=\"gray\")"
   ]
  },
  {
   "cell_type": "code",
   "execution_count": null,
   "id": "ZbWZivWGubu4",
   "metadata": {
    "colab": {
     "base_uri": "https://localhost:8080/"
    },
    "id": "ZbWZivWGubu4",
    "outputId": "1035d8dd-54a8-4a86-c259-25491b98addc"
   },
   "outputs": [],
   "source": [
    "tf.keras.backend.clear_session()\n",
    "gc.collect()"
   ]
  },
  {
   "cell_type": "code",
   "execution_count": null,
   "id": "3V8jvY9W4M7Y",
   "metadata": {
    "id": "3V8jvY9W4M7Y"
   },
   "outputs": [],
   "source": [
    "n = 3000\n",
    "activation  = tf.reduce_mean(model.layers[0](x_test[:n]), axis=(1,2)).numpy().T"
   ]
  },
  {
   "cell_type": "code",
   "execution_count": null,
   "id": "DMCIKZ-H2YWc",
   "metadata": {
    "id": "DMCIKZ-H2YWc"
   },
   "outputs": [],
   "source": [
    "df = pd.DataFrame(data=activation)"
   ]
  },
  {
   "cell_type": "code",
   "execution_count": null,
   "id": "nGLPXNns2a3Y",
   "metadata": {
    "colab": {
     "base_uri": "https://localhost:8080/",
     "height": 288
    },
    "id": "nGLPXNns2a3Y",
    "outputId": "b49a7dd7-9a7d-4ed6-cb23-e67341d94d9c"
   },
   "outputs": [],
   "source": [
    "plt.plot(df.mean(1).sort_values(ascending=False).values.ravel())\n",
    "plt.plot([1, df.shape[0]], [0.005, 0.005/df.shape[0]**0.2])\n",
    "plt.xlim(1, df.shape[0])\n",
    "plt.yscale(\"log\")\n",
    "plt.xscale(\"log\")\n",
    "plt.xlabel(\"filters rank\")\n",
    "plt.ylabel(\"mean filter usage\")\n",
    "\n",
    "plt.show()"
   ]
  },
  {
   "cell_type": "code",
   "execution_count": null,
   "id": "PHcj7WPj2cZ0",
   "metadata": {
    "colab": {
     "base_uri": "https://localhost:8080/"
    },
    "id": "PHcj7WPj2cZ0",
    "outputId": "d6c722b6-5e95-4b10-856b-b0543c29fa96"
   },
   "outputs": [],
   "source": [
    "f = df.mean(1).sort_values(ascending=False)\n",
    "f"
   ]
  },
  {
   "cell_type": "code",
   "execution_count": null,
   "id": "Zj7nuE03zpG0",
   "metadata": {
    "colab": {
     "base_uri": "https://localhost:8080/"
    },
    "id": "Zj7nuE03zpG0",
    "outputId": "39810089-8e95-47cf-dd43-bd57d44e68fc"
   },
   "outputs": [],
   "source": [
    "# get labels and fine labels\n",
    "chosen_set = \"flowers\" #\"people\" #\"household furniture\"\n",
    "\n",
    "y_test_c, y_test_f = list(\n",
    "    zip(*map(lambda x: x[0],\n",
    "    filter(lambda x: x[1][0] == chosen_set, \n",
    "            [get_label(y) for y in y_test.ravel()[:n]]))))\n",
    "\n",
    "c_numbers = np.unique(y_test_c)\n",
    "f_numbers = np.unique(y_test_f)\n",
    "print(c_numbers)\n",
    "print(f_numbers)\n",
    "\n",
    "y_test_c, y_test_f = list(\n",
    "    zip(*map(lambda x: x[0],\n",
    "            [get_label(y) for y in y_test.ravel()[:n]])))\n",
    "\n",
    "y_test_c = np.array(y_test_c)\n",
    "y_test_f = np.array(y_test_f)"
   ]
  },
  {
   "cell_type": "code",
   "execution_count": null,
   "id": "o4iBkwjTtzLk",
   "metadata": {
    "colab": {
     "base_uri": "https://localhost:8080/",
     "height": 295
    },
    "id": "o4iBkwjTtzLk",
    "outputId": "da785091-80dd-40fa-f112-23e77ec762ef"
   },
   "outputs": [],
   "source": [
    "# consistency check\n",
    "fig, ax = plt.subplots()\n",
    "\n",
    "filter_i = f.index[0]\n",
    "\n",
    "df = pd.DataFrame(data=activation[:, y_test_c.ravel()[:n]==c_numbers[0]])\n",
    "df.loc[filter_i, :].hist(ax=ax, lw = 5, histtype=\"step\")\n",
    "\n",
    "df = pd.DataFrame(data=activation[:, np.array(list(map(lambda x: np.isin(x, f_numbers)[0], y_test[:n])))])\n",
    "df.loc[filter_i, :].hist(ax=ax, lw=5, ls=\":\", histtype=\"step\")\n",
    "\n",
    "plt.title(\"filter {}\".format(filter_i))\n",
    "plt.xlabel(\"mean filter activation\")\n",
    "\n",
    "plt.show()"
   ]
  },
  {
   "cell_type": "code",
   "execution_count": null,
   "id": "tfv4J-ul7Dfw",
   "metadata": {
    "colab": {
     "base_uri": "https://localhost:8080/",
     "height": 412
    },
    "id": "tfv4J-ul7Dfw",
    "outputId": "211d87b0-3bdd-458a-b473-ef6f240d4e44"
   },
   "outputs": [],
   "source": [
    "def plot_filter(filter_obj = None, filter_idx = 0):\n",
    "    if filter_obj is None:\n",
    "        filter_obj = f.index[filter_idx]\n",
    "\n",
    "    fig, axs = plt.subplots(1, 4, figsize=(21,7))\n",
    "\n",
    "    df = pd.DataFrame(data=activation)\n",
    "\n",
    "    bins = np.linspace(0, df.loc[filter_obj, :].max(), 20)\n",
    "\n",
    "    df.loc[filter_obj, :].hist(ax=axs[0], bins=bins, lw = 5, color=\"gray\", histtype=\"step\", density=True, label=\"all_data\")\n",
    "    \n",
    "    y_test_c, y_test_f = list(\n",
    "    zip(*map(lambda x: x[0],\n",
    "    filter(lambda x: x[1][0] == \"flowers\", \n",
    "            [get_label(y) for y in y_test.ravel()]))))\n",
    "\n",
    "    c_numbers = np.unique(y_test_c)\n",
    "    f_numbers = np.unique(y_test_f)\n",
    "    \n",
    "    y_test_c, y_test_f = list(\n",
    "        zip(*map(lambda x: x[0],\n",
    "                [get_label(y) for y in y_test.ravel()])))\n",
    "\n",
    "    y_test_c = np.array(y_test_c)\n",
    "    y_test_f = np.array(y_test_f)\n",
    "    \n",
    "    df = pd.DataFrame(data=activation[:, y_test_c.ravel()[:n]==c_numbers[0]])\n",
    "    df.loc[filter_obj, :].hist(ax=axs[1], bins=bins, lw = 5, histtype=\"step\", density=True, label=chosen_set)\n",
    "    \n",
    "    for finec in f_numbers:\n",
    "        df = pd.DataFrame(data=activation[:, y_test_f.ravel()[:n]==finec])\n",
    "        df.loc[filter_obj, :].hist(ax=axs[2], bins=bins, lw=5, ls=\"-\", alpha=0.8, histtype=\"step\", density=True, label=coarse_label[finec])\n",
    "\n",
    "    y_test_c, y_test_f = list(\n",
    "    zip(*map(lambda x: x[0],\n",
    "    filter(lambda x: x[1][0] == \"people\", \n",
    "            [get_label(y) for y in y_test.ravel()]))))\n",
    "\n",
    "    c_numbers = np.unique(y_test_c)\n",
    "    f_numbers = np.unique(y_test_f)\n",
    "    \n",
    "    y_test_c, y_test_f = list(\n",
    "    zip(*map(lambda x: x[0],\n",
    "            [get_label(y) for y in y_test.ravel()])))\n",
    "\n",
    "    y_test_c = np.array(y_test_c)\n",
    "    y_test_f = np.array(y_test_f)\n",
    "\n",
    "    other_idx = 14\n",
    "    df = pd.DataFrame(data=activation[:, y_test_c.ravel()[:n]==other_idx])\n",
    "    df.loc[filter_obj, :].hist(ax=axs[1], bins=bins, lw = 5, histtype=\"step\", density=True, label=list(mapping.keys())[other_idx])\n",
    "\n",
    "    for finec in f_numbers:\n",
    "        df = pd.DataFrame(data=activation[:, y_test_f.ravel()[:n]==finec])\n",
    "        df.loc[filter_obj, :].hist(ax=axs[3], bins=bins, lw=5, ls=\"-\", alpha=0.8, histtype=\"step\", density=True, label=coarse_label[finec])\n",
    "\n",
    "        \n",
    "    axs[0].set_title(\"filter {}\".format(filter_idx), fontsize=30)\n",
    "    for ax in axs:\n",
    "        ax.set_xlabel(\"mean filter activation\", fontsize=25)\n",
    "        ax.tick_params(labelsize=12, length=5, width=3)\n",
    "        ax.legend(fontsize=15)\n",
    "    plt.show()\n",
    "\n",
    "plot_filter(filter_idx = 44)"
   ]
  },
  {
   "cell_type": "code",
   "execution_count": null,
   "id": "7906efd7-528d-47b2-8ae4-933d0ff7649f",
   "metadata": {},
   "outputs": [],
   "source": []
  }
 ],
 "metadata": {
  "accelerator": "GPU",
  "colab": {
   "name": "cifar.ipynb",
   "provenance": []
  },
  "kernelspec": {
   "display_name": "Python 3 (ipykernel)",
   "language": "python",
   "name": "python3"
  },
  "language_info": {
   "codemirror_mode": {
    "name": "ipython",
    "version": 3
   },
   "file_extension": ".py",
   "mimetype": "text/x-python",
   "name": "python",
   "nbconvert_exporter": "python",
   "pygments_lexer": "ipython3",
   "version": "3.8.5"
  }
 },
 "nbformat": 4,
 "nbformat_minor": 5
}
