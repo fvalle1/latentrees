{
 "cells": [
  {
   "cell_type": "code",
   "execution_count": null,
   "id": "1a4e50f3-314e-4f02-80c3-019425c1b802",
   "metadata": {},
   "outputs": [],
   "source": [
    "import math\n",
    "import random\n",
    "import plotly.express as px"
   ]
  },
  {
   "cell_type": "code",
   "execution_count": null,
   "id": "51dee84f-dc82-4200-95c6-ca92fe379510",
   "metadata": {},
   "outputs": [],
   "source": [
    "def step(x):\n",
    "    u = 2.*random.random()\n",
    "    f = random.gauss(0, 1)\n",
    "    return u * (x + 1) + f"
   ]
  },
  {
   "cell_type": "code",
   "execution_count": null,
   "id": "254d308c-2290-4b83-8e51-b6faabf47cf4",
   "metadata": {},
   "outputs": [],
   "source": [
    "previous = 100\n",
    "warmup = 1000\n",
    "steps = range(10000)\n",
    "for _ in range(warmup):\n",
    "    previous = step(previous)\n",
    "\n",
    "walk = [previous]\n",
    "for _ in steps:\n",
    "    walk.append(step(walk[-1]))"
   ]
  },
  {
   "cell_type": "code",
   "execution_count": null,
   "id": "380505f2-7539-49f9-9ded-54826eabafda",
   "metadata": {},
   "outputs": [],
   "source": [
    "px.scatter(walk)"
   ]
  },
  {
   "cell_type": "code",
   "execution_count": null,
   "id": "5f82f70b-1060-4c7e-a371-d932aa14dc59",
   "metadata": {},
   "outputs": [],
   "source": [
    "ranks = range(len(walk))\n",
    "\n",
    "fig = px.scatter(x=range(len(walk)), y=[f/sum(walk) for f in sorted(walk, reverse=True)])\n",
    "fig.add_scatter(x=list(range(1,1+len(walk))), y=[0.1/_x for _x in range(1,1+len(walk))])\n",
    "\n",
    "fig.update_layout({\"xaxis\":{\"type\":\"log\"},\n",
    "                   \"yaxis\":{\"type\":\"log\"}})"
   ]
  },
  {
   "cell_type": "code",
   "execution_count": null,
   "id": "eb034273-a11c-475b-8469-aabfd2b74ec3",
   "metadata": {},
   "outputs": [],
   "source": []
  }
 ],
 "metadata": {
  "kernelspec": {
   "display_name": "Python 3 (ipykernel)",
   "language": "python",
   "name": "python3"
  },
  "language_info": {
   "codemirror_mode": {
    "name": "ipython",
    "version": 3
   },
   "file_extension": ".py",
   "mimetype": "text/x-python",
   "name": "python",
   "nbconvert_exporter": "python",
   "pygments_lexer": "ipython3",
   "version": "3.8.5"
  }
 },
 "nbformat": 4,
 "nbformat_minor": 5
}
