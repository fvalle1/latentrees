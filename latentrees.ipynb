{
 "cells": [
  {
   "cell_type": "code",
   "execution_count": null,
   "metadata": {},
   "outputs": [],
   "source": [
    "import numpy as np\n",
    "from scipy.optimize import curve_fit\n",
    "from scipy.stats import binned_statistic\n",
    "import matplotlib.pyplot as plt\n",
    "import plotly.express as px\n",
    "import plotly.graph_objects as go\n",
    "from plotly.subplots import make_subplots\n",
    "import seaborn as sns"
   ]
  },
  {
   "cell_type": "code",
   "execution_count": null,
   "metadata": {},
   "outputs": [],
   "source": [
    "%load_ext autoreload\n",
    "%autoreload 2\n",
    "from latentrees import *"
   ]
  },
  {
   "cell_type": "code",
   "execution_count": null,
   "metadata": {},
   "outputs": [],
   "source": [
    "def param_freezer(func, *args, **kwargs):\n",
    "    def wrapper(x):\n",
    "        return func(x, *args, **kwargs)\n",
    "    return wrapper"
   ]
  },
  {
   "cell_type": "code",
   "execution_count": null,
   "metadata": {
    "tags": []
   },
   "outputs": [],
   "source": [
    "runtime = analyses()\n",
    "params = [0.3,1,1.05]\n",
    "params = [2]\n",
    "\n",
    "#for param in params:\n",
    "    #runtime.append_model(L=50, distribution = param_freezer(lambda node, param: np.clip(rng.integers(node-1-np.sqrt(3)*np.power(abs(node),param), node+1+np.sqrt(3)*np.power(abs(node),param)), -1e15, 1e15), param), name=\"{:.2f}\".format(param))\n",
    "    #runtime.append_model(L=15, distribution = param_freezer(lambda node, param: np.clip(rng.normal(node, np.power(abs(node),param)), -1e15, 1e15), param), name=\"{:.2f}\".format(param))\n",
    "    #runtime.append_model(nl=param, L=50, name=\"negative_binom_{:d}\".format(param))\n",
    "    #runtime.append_model(L=25, distribution = param_freezer(lambda node, param: np.clip(rng.integers(node-1-param*np.sqrt(3)*abs(node), node+1+param*np.sqrt(3)*abs(node)), -1e15, 1e15), param), name=\"{:.2f}\".format(param))\n",
    "\n",
    "\n",
    "runtime.append_model(L=50, name=\"negative_binom_{:d}\".format(1))\n",
    "\n",
    "#runtime.append_model(L=50, distribution = lambda node: np.clip(rng.normal(node, abs(node)), -1e15, 1e15), name=\"gaus_scaling\")\n",
    "print(runtime)\n",
    "runtime.run()"
   ]
  },
  {
   "cell_type": "code",
   "execution_count": null,
   "metadata": {},
   "outputs": [],
   "source": [
    "moi_index = \"negative_binom_1\" #model of interest\n",
    "if moi_index not in runtime:\n",
    "    raise ValueError(f\"{moi_index} not available\")\n",
    "layers = runtime[moi_index].layers\n",
    "L = runtime[moi_index].L\n",
    "nl = runtime[moi_index].nl"
   ]
  },
  {
   "cell_type": "code",
   "execution_count": null,
   "metadata": {},
   "outputs": [],
   "source": [
    "fig = plt.figure()\n",
    "\n",
    "for l in range(1, L+1, round(L/4)):\n",
    "    cnts = layers[l].sorted_nodes\n",
    "    #cnts = cnts[cnts>0]\n",
    "    #freqs = np.unique(cnts, return_counts=True)[1]\n",
    "    #freqs = freqs / np.sum(freqs)\n",
    "    freqs = cnts\n",
    "    x = np.linspace(1, len(freqs), len(freqs))\n",
    "    plt.plot(x, np.sort(freqs)[::-1]/np.sum(freqs), marker=\"o\", ms=20, lw=10, alpha=0.2, label=l)\n",
    "\n",
    "plt.plot(x, x**-1, color=\"gray\", lw=10, ls=\"--\")\n",
    "plt.legend()\n",
    "plt.xscale(\"log\")\n",
    "plt.yscale(\"log\")\n",
    "plt.xlabel(\"i\")\n",
    "plt.ylabel(\"fi\")\n",
    "fig.show()"
   ]
  },
  {
   "cell_type": "code",
   "execution_count": null,
   "metadata": {},
   "outputs": [],
   "source": [
    "layer_of_interest = runtime[moi_index].layers[10]\n",
    "cnts = layer_of_interest.sorted_nodes\n",
    "#cnts = np.abs(cnts)\n",
    "#cnts = cnts[cnts<1e15]\n",
    "\n",
    "freqs = np.unique(cnts, return_counts=True)[1]\n",
    "freqs = freqs / np.sum(freqs)\n",
    "\n",
    "\n",
    "cnts = cnts/cnts.sum()\n",
    "cnts = np.sort(cnts)[::-1]\n",
    "\n",
    "x = np.linspace(1, len(cnts), len(cnts))\n",
    "xf = np.linspace(1, len(freqs), len(freqs))\n",
    "\n",
    "fig = go.Figure()\n",
    "\n",
    "fig.add_trace(go.Scatter(x=x, y=cnts, marker=dict(symbol=\"0\", size=20, color=\"blue\"), mode=\"markers+lines\", line_width=10, name=\"\", showlegend=False))\n",
    "fig.add_trace(go.Scatter(x=xf, y=freqs, marker=dict(symbol=\"0\", size=20, color=\"green\"), mode=\"markers+lines\", line_width=10, name=\"\", showlegend=False))\n",
    "\n",
    "\n",
    "\n",
    "fig.add_trace(go.Scatter(x=x, y=1/x, line_width=10, line_dash=\"dash\",name=\"x^-1\"))\n",
    "\n",
    "fit_func = lambda x, C, gamma: C * np.power(x, - gamma)\n",
    "\n",
    "popt, pcov = curve_fit(fit_func, x[20:15000], cnts[20:15000])\n",
    "fig.add_trace(go.Scatter(x=x, y=fit_func(x, *popt), line_width=10, line_dash=\"longdash\", name=f\"C*x^-{round(popt[1],3)}\"))\n",
    "\n",
    "popt, pcov = curve_fit(fit_func, xf[1:], freqs[1:])\n",
    "fig.add_trace(go.Scatter(x=xf, y=fit_func(xf, *popt), line_width=10, line_dash=\"longdash\", name=f\"C*x^-{round(popt[1],3)}\"))\n",
    "\n",
    "#dd = np.diff(np.diff(cnts))\n",
    "#mask = np.argwhere((dd[1:]*dd[:-1]<0)).ravel()\n",
    "#fig.add_trace(go.Scatter(x=x[mask],y=cnts[mask],  name=f\"flexes\", mode=\"markers\"))\n",
    "\n",
    "\n",
    "fig.update_xaxes(type=\"log\", title=\"rank\")\n",
    "fig.update_yaxes(type=\"log\", exponentformat=\"e\", title=\"leaf count\")\n",
    "fig.update_layout(title=moi_index, titlefont_size=20)"
   ]
  },
  {
   "cell_type": "code",
   "execution_count": null,
   "metadata": {},
   "outputs": [],
   "source": [
    "layer_of_interest = runtime[moi_index].layers[-1]\n",
    "cnts = layer_of_interest.sorted_nodes\n",
    "freqs = np.unique(cnts, return_counts=True)[1]\n",
    "freqs = freqs/freqs.sum()\n",
    "freqs = np.sort(freqs)[::-1]\n",
    "\n",
    "x = np.linspace(1, len(freqs), len(freqs))\n",
    "\n",
    "fig = go.Figure()\n",
    "\n",
    "fig.add_trace(go.Scatter(x=x, y=freqs, marker=dict(symbol=\"0\", size=20, color=\"blue\"), line_width=10, name=\"\", showlegend=False))\n",
    "fig.add_trace(go.Scatter(x=x, y=1/x, line_width=10, line_dash=\"dash\",name=\"x^-1\"))\n",
    "\n",
    "fit_func = lambda x, C, gamma: C * np.power(x, - gamma)\n",
    "\n",
    "popt, pcov = curve_fit(fit_func, x[20:15000], freqs[20:15000])\n",
    "fig.add_trace(go.Scatter(x=x, y=fit_func(x, *popt), line_width=10, line_dash=\"longdash\", name=f\"C*x^-{round(popt[1],3)}\"))\n",
    "\n",
    "#dd = np.diff(np.diff(cnts))\n",
    "#mask = np.argwhere((dd[1:]*dd[:-1]<0)).ravel()\n",
    "#fig.add_trace(go.Scatter(x=x[mask],y=cnts[mask],  name=f\"flexes\", mode=\"markers\"))\n",
    "\n",
    "\n",
    "fig.update_xaxes(type=\"log\", title=\"rank\", titlefont_size=30, tickfont_size=25)\n",
    "fig.update_yaxes(type=\"log\", exponentformat=\"e\", title=\"f\", titlefont_size=30, tickfont_size=25)\n",
    "fig.update_layout(title=moi_index, titlefont_size=20)"
   ]
  },
  {
   "cell_type": "markdown",
   "metadata": {},
   "source": [
    "# Last Layer"
   ]
  },
  {
   "cell_type": "code",
   "execution_count": null,
   "metadata": {},
   "outputs": [],
   "source": [
    "fig = go.Figure()\n",
    "leaves = np.array(runtime[moi_index].layers[-1].nodes)\n",
    "leaves = leaves[abs(leaves) < 1e15]\n",
    "fig.add_trace(go.Histogram(x=leaves, nbinsx=100))\n",
    "\n",
    "layout=dict(\n",
    "xaxis=dict(title=\"leaves\", title_font_size=35, tickfont_size=25),\n",
    "yaxis=dict(tickfont_size=25)\n",
    ")\n",
    "\n",
    "fig.update_layout(layout)"
   ]
  },
  {
   "cell_type": "markdown",
   "metadata": {},
   "source": [
    "## Histogram of distances"
   ]
  },
  {
   "cell_type": "code",
   "execution_count": null,
   "metadata": {},
   "outputs": [],
   "source": [
    "import multiprocessing as mp\n",
    "import gc\n",
    "def append_error(err):\n",
    "    print(err)\n",
    "        \n",
    "def append_dist(d):\n",
    "    global distances\n",
    "    distances.append(d)\n",
    "    \n",
    "def measure_func(leaf_A):\n",
    "    return list(map(lambda leaf_B: abs(leaf_A[1]-leaf_B[1]) if leaf_A[0] < leaf_B[0] else np.nan, enumerate(leaves)))"
   ]
  },
  {
   "cell_type": "code",
   "execution_count": null,
   "metadata": {},
   "outputs": [],
   "source": [
    "data = dict()\n",
    "for model in runtime:\n",
    "    loi = model.layers[-1]\n",
    "    N = 500\n",
    "    if len(loi)>N:\n",
    "        leaves = np.random.choice(loi.nodes,size=N,replace=False)\n",
    "    else:\n",
    "        leaves = loi.nodes\n",
    "    norm_leaves = max(loi.nodes)\n",
    "    #print(norm_leaves)\n",
    "\n",
    "    distances = []\n",
    "    pool = mp.Pool(4) \n",
    "    res = pool.map_async(measure_func, enumerate(leaves), callback=append_dist, error_callback=append_error)\n",
    "    pool.close()\n",
    "    pool.join()\n",
    "    distances = np.ravel(distances)\n",
    "    #distances = np.ravel(list(map(lambda leaf: abs((leaf-avg_leaves)/norm_leave),enumerate(leaves))))\n",
    "    #distances=distances/max([np.nanmax(distances),abs(np.nanmin(distances))])\n",
    "    distances = distances[~np.isnan(distances)]\n",
    "    #distances = distances[distances>=0]\n",
    "\n",
    "    data[model.name]=distances\n",
    "    loi = None\n",
    "    gc.collect()"
   ]
  },
  {
   "cell_type": "markdown",
   "metadata": {},
   "source": [
    "### distance vs param"
   ]
  },
  {
   "cell_type": "code",
   "execution_count": null,
   "metadata": {},
   "outputs": [],
   "source": [
    "scale_distances = False\n",
    "\n",
    "fig = go.Figure()\n",
    "\n",
    "n_leaves = len(leaves)\n",
    "for param,distances in data.items():\n",
    "    try:\n",
    "        if scale_distances:\n",
    "            distances=distances/max([np.quantile(distances, 0.99),abs(np.nanmin(distances))])\n",
    "            bins=np.linspace(0,np.quantile(distances, 0.99),15)\n",
    "        else:\n",
    "            bins=np.logspace(np.log10(distances[distances>1e-10].min()),np.log10(distances.max()), 10)\n",
    "        bins, edges = np.histogram(distances, bins=bins, density=True)\n",
    "        esges = (edges[1:]+edges[:1])/2\n",
    "        fig.add_trace(go.Scatter(x=edges,y=bins,  marker=dict(size=20), line=dict(width=10), name=param))\n",
    "    except:\n",
    "        pass\n",
    "    \n",
    "fig.update_layout(xaxis=dict(title=\"distances\", titlefont_size=35, tickfont_size=35, nticks= 5),\n",
    "                 yaxis=dict(title=\"pdf\", titlefont_size=35,tickfont_size=35, type=\"log\", exponentformat=\"e\", showexponent='all', nticks=4),\n",
    "                 legend=dict(x=1.01,y=1,borderwidth=0.5,font_size=15,orientation=\"v\"))\n",
    "\n",
    "if not scale_distances:\n",
    "    fig.update_xaxes(type=\"log\")\n",
    "fig.show()\n",
    "filename = \"images/pdf_distances_nbinom_scaling\"\n",
    "if scale_distances:\n",
    "    filename+=\"_scaled\"\n",
    "#fig.write_image(f\"{filename}.pdf\")\n",
    "#fig.write_html(f\"{filename}.html\")"
   ]
  },
  {
   "cell_type": "markdown",
   "metadata": {},
   "source": [
    "### Distance vs layer"
   ]
  },
  {
   "cell_type": "code",
   "execution_count": null,
   "metadata": {},
   "outputs": [],
   "source": [
    "fig = go.Figure()\n",
    "\n",
    "for loi in runtime[-1].layers[::10]:\n",
    "    N = 500\n",
    "    if len(loi)>N:\n",
    "        leaves = np.random.choice(loi.nodes,size=N,replace=False)\n",
    "    else:\n",
    "        leaves = loi.nodes\n",
    "    avg_leaves = loi.median\n",
    "    \n",
    "    distances = []\n",
    "    pool = mp.Pool(2) \n",
    "    res = pool.map_async(measure_func, enumerate(leaves), callback=append_dist, error_callback=append_error)\n",
    "    pool.close()\n",
    "    pool.join()\n",
    "    distances = np.ravel(distances)\n",
    "    distances = distances[~np.isnan(distances)]\n",
    "    \n",
    "    n_leaves = len(leaves)\n",
    "\n",
    "    bins=np.logspace(np.log10(distances[distances>0].min()),np.log10(distances.max()), 15)\n",
    "    #bins=np.linspace(distances.min(),distances.max(),20)\n",
    "    bins, edges = np.histogram(distances, bins=bins, density=True)\n",
    "    esges = (edges[1:]+edges[:1])/2\n",
    "    fig.add_trace(go.Scatter(x=edges,y=bins,  marker=dict(size=20), line=dict(width=10), name=loi.__repr__().split(\",\")[0]))\n",
    "\n",
    "    gc.collect()\n",
    "    \n",
    "fig.update_layout(xaxis=dict(title=\"distances\", titlefont_size=35, tickfont_size=35, exponentformat=\"e\", type=\"log\", nticks= 4),\n",
    "                 yaxis=dict(title=\"pdf\", titlefont_size=35,tickfont_size=35, type=\"log\", exponentformat=\"e\", showexponent='all', nticks=4),\n",
    "                 legend=dict(x=1.01,y=1,borderwidth=0.5,font_size=15,orientation=\"v\"))\n",
    "\n",
    "fig.show()\n",
    "filename = \"images/distance_pdf_layers_nbinom\"\n",
    "fig.write_image(f\"{filename}.pdf\")\n",
    "fig.write_html(f\"{filename}.html\")"
   ]
  },
  {
   "cell_type": "markdown",
   "metadata": {},
   "source": [
    "# Hyperparameters"
   ]
  },
  {
   "cell_type": "markdown",
   "metadata": {},
   "source": [
    "## gamma"
   ]
  },
  {
   "cell_type": "code",
   "execution_count": null,
   "metadata": {},
   "outputs": [],
   "source": [
    "def get_exp(layer, x_limits = (0,-1))->float:\n",
    "    try:\n",
    "        layer_of_interest = layer\n",
    "        cnts = layer_of_interest.sorted_nodes\n",
    "        #cnts = np.abs(cnts)\n",
    "        #cnts = cnts[np.abs(cnts)<1e15]\n",
    "        #cnts = cnts/cnts.sum()\n",
    "        #cnts = np.sort(cnts)[::-1]\n",
    "        freqs = np.unique(cnts, return_counts=True)[1]\n",
    "        freqs = freqs/freqs.sum()\n",
    "        freqs = np.sort(freqs)[::-1]\n",
    "        x = np.linspace(1, len(freqs), len(freqs))\n",
    "\n",
    "        popt, pcov = curve_fit(lambda x, C, gamma: C * np.power(x, - gamma), x[x_limits[0]:x_limits[1]], freqs[x_limits[0]:x_limits[1]])\n",
    "        return popt[1]\n",
    "    except:\n",
    "        return np.nan"
   ]
  },
  {
   "cell_type": "code",
   "execution_count": null,
   "metadata": {},
   "outputs": [],
   "source": [
    "exps = list(map(lambda m: get_exp(m.layers[-1]), runtime))"
   ]
  },
  {
   "cell_type": "code",
   "execution_count": null,
   "metadata": {},
   "outputs": [],
   "source": [
    "exps_first = list(map(lambda m: get_exp(m.layers[-1], x_limits=(0,100)), runtime))\n",
    "exps_second = list(map(lambda m: get_exp(m.layers[-1], x_limits=(100,1000)), runtime))\n",
    "exps_third = list(map(lambda m: get_exp(m.layers[-1], x_limits=(1000,5000)), runtime))"
   ]
  },
  {
   "cell_type": "code",
   "execution_count": null,
   "metadata": {},
   "outputs": [],
   "source": [
    "x, xlabel = params, \"scaling\"\n",
    "#x, xlabel = np.linspace(1,len(exps),len(exps)), \"Layer\"\n",
    "\n",
    "fig = go.Figure()\n",
    "\n",
    "#fig.add_scatter(x = x, y=exps, error_y=dict(type=\"data\", array=exps_errors, visible=True, width=8, thickness=3), name=\"exponents\", mode=\"lines\", marker=dict(size=10), line=dict(width=10, color=\"gray\"))\n",
    "fig.add_scatter(x = x, y=exps, name=\"exponents\", mode=\"lines\", marker=dict(size=10), line=dict(width=10, color=\"gray\"))\n",
    "fig.add_trace(go.Scatter(y=[1,1], x=[min(x)*0.9,max(x)*1.1], name=\"1\", mode=\"lines\", line=dict(width=10, color=\"blue\", dash=\"dash\")))\n",
    "\n",
    "for exp, name in zip([exps_first, exps_second, exps_third],[\"first\", \"second\", \"third\"]):\n",
    "    fig.add_scatter(x = x, y=exp, name=name, mode=\"lines\", marker=dict(size=10), line=dict(width=10))\n",
    "\n",
    "\n",
    "\n",
    "fig.update_traces(marker_size=20)\n",
    "fig.update_layout(xaxis=dict(title=xlabel, exponentformat = 'e', tickfont=dict(size=20), title_font_size=35),\n",
    "                  yaxis_title=\"gamma\",\n",
    "                  yaxis=dict(tickfont=dict(size=20), title_font=dict(size=35)),\n",
    "                 legend=dict(font_size=30, orientation=\"v\", x=0.9, y=1))\n",
    "fig.show()\n",
    "filename = \"images/exp_scaling_unif_regimes\"\n",
    "#fig.write_image(\"{}.pdf\".format(filename))\n",
    "#fig.write_html(\"{}.html\".format(filename))"
   ]
  },
  {
   "cell_type": "code",
   "execution_count": null,
   "metadata": {},
   "outputs": [],
   "source": [
    "import gc\n",
    "gc.collect()"
   ]
  },
  {
   "cell_type": "code",
   "execution_count": null,
   "metadata": {},
   "outputs": [],
   "source": []
  }
 ],
 "metadata": {
  "kernelspec": {
   "display_name": "Python 3",
   "language": "python",
   "name": "python3"
  },
  "language_info": {
   "codemirror_mode": {
    "name": "ipython",
    "version": 3
   },
   "file_extension": ".py",
   "mimetype": "text/x-python",
   "name": "python",
   "nbconvert_exporter": "python",
   "pygments_lexer": "ipython3",
   "version": "3.8.8"
  }
 },
 "nbformat": 4,
 "nbformat_minor": 4
}
