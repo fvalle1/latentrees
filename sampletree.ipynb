{
 "cells": [
  {
   "cell_type": "code",
   "execution_count": null,
   "metadata": {},
   "outputs": [],
   "source": [
    "import numpy as np\n",
    "from scipy.optimize import curve_fit\n",
    "from scipy.stats import binned_statistic\n",
    "import matplotlib.pyplot as plt\n",
    "import plotly.express as px\n",
    "import plotly.graph_objects as go\n",
    "import seaborn as sns\n",
    "import os\n",
    "#os.chdir(\"sampletree\")"
   ]
  },
  {
   "cell_type": "code",
   "execution_count": null,
   "metadata": {},
   "outputs": [],
   "source": [
    "variance = [1, 2, 5, 10, 50, 100, 300, 500, 600, 800, 900, 1000]\n",
    "mean_distance = [0.07113, 0.409, 0.41, 0.40510, 0.3877067, 0.3998, 0.3959532, 0.412, 0.39208, 0.3905890, 0.388243, 0.40660]\n",
    "exponent = [0.039, 0.375, 0.372, 0.386, 0.114, 0.105, 0.144, 0.119, 0.132, 0.11, 0.124]\n",
    "\n",
    "scaling = [1, 2, 2.5, 3, 4, 5]\n",
    "scaling_exp = [0.14189,0.683]\n",
    "scaling_distance = [0.19,0.7543]"
   ]
  },
  {
   "cell_type": "code",
   "execution_count": null,
   "metadata": {},
   "outputs": [],
   "source": [
    "rng = np.random.default_rng()\n",
    "\n",
    "class node():\n",
    "    def __init__(self, name: str):\n",
    "        self.name = name\n",
    "        self.cnt = None\n",
    "    \n",
    "    def get_value(self):\n",
    "        return self.cnt\n",
    "        \n",
    "    def __repr__(self):\n",
    "        return self.name\n",
    "    \n",
    "class layer():\n",
    "    def __init__(self, name : str, nl: int, distribution = None):\n",
    "        global rng\n",
    "        self.nl = nl\n",
    "        self.nodes = []\n",
    "        self.name = name\n",
    "        self.rng = rng\n",
    "        self.max_N_leaves = 10000\n",
    "        def default_distribution(node:node):\n",
    "            m = node + 2\n",
    "            n = m/(m-1)\n",
    "            p = 1/m\n",
    "            return self.rng.negative_binomial(n,p)\n",
    "        if distribution is None:\n",
    "            self.distribution = default_distribution\n",
    "        else:\n",
    "            self.distribution =  distribution\n",
    "    \n",
    "    def sample(self, previous_layer) -> None:\n",
    "        if len(previous_layer) < self.max_N_leaves:\n",
    "            previous_nodes = previous_layer.nodes\n",
    "        else:\n",
    "            previous_nodes = np.random.choice(previous_layer.nodes, size=self.max_N_leaves, replace=False)\n",
    "        for node in previous_nodes:\n",
    "            for _ in range(self.nl):\n",
    "                self.nodes.append(self.distribution(node))\n",
    "    @property\n",
    "    def sorted_nodes(self):\n",
    "        return np.sort(self.nodes)[::-1]\n",
    "    \n",
    "    @property\n",
    "    def average(self):\n",
    "        return np.average(self.nodes)\n",
    "    \n",
    "    @property\n",
    "    def median(self):\n",
    "        return np.median(self.nodes)\n",
    "      \n",
    "    def __len__(self):\n",
    "        return len(self.nodes)\n",
    "   \n",
    "    def __repr__(self):\n",
    "        return f\"{self.name}, nodes: {self.nodes}\"\n",
    "    \n",
    "class first_layer(layer): \n",
    "    def sample(self, previous_layer):\n",
    "        raise NotImplementedError(\"First layer cannot have a previous layer\")\n",
    "            \n",
    "    def sample(self) -> None:\n",
    "        for node in range(self.nl):\n",
    "            self.nodes.append(self.distribution(1))\n",
    "            \n",
    "class model():\n",
    "    def __init__(self, L=50, nl=3, distribution=None):\n",
    "        self.L = L\n",
    "        self.nl = nl\n",
    "        self.levels = []\n",
    "        self.distribution = distribution\n",
    "        \n",
    "    def run(self) -> None:\n",
    "        self.levels = [first_layer(\"l0\", self.nl, distribution=self.distribution)]\n",
    "        self.levels[0].sample()\n",
    "        for il,l in enumerate(range(self.L)):\n",
    "            if il % (self.L/10) == 0:\n",
    "                print(il)\n",
    "            new_layer = layer(f\"l{il+1}\", self.nl, distribution=self.distribution)\n",
    "            self.levels.append(new_layer)\n",
    "            new_layer.sample(self.layers[il])\n",
    "            \n",
    "    @property\n",
    "    def layers(self):\n",
    "        return self.levels\n",
    "    \n",
    "    def __repr__(self):\n",
    "        return \"model with {} layers and {} splits\".format(self.L, self.nl)\n",
    "    \n",
    "class analyses():\n",
    "    def __init__(self):\n",
    "        self.models = []\n",
    "        \n",
    "    def run(self) -> None:\n",
    "        def run_model(model):\n",
    "            print(\"Running \", model)\n",
    "            model.run()\n",
    "        list(map(run_model, self.models))\n",
    "    \n",
    "    def __getitem__(self, item):\n",
    "        return self.models[item]\n",
    "    \n",
    "    def __len__(self):\n",
    "        return len(self.models)\n",
    "    \n",
    "    def __repr__(self):\n",
    "        return f\"analysis with {self.__len__()} models: {[model.__repr__() for model in self.models]}\""
   ]
  },
  {
   "cell_type": "code",
   "execution_count": null,
   "metadata": {},
   "outputs": [],
   "source": [
    "runtime = analyses()\n",
    "#runtime.models.append(model(distribution = lambda node: round(rng.normal(node, 1))))\n",
    "runtime.models.append(model(L=5000))\n",
    "print(runtime)\n",
    "runtime.run()\n",
    "layers = runtime.models[0].layers\n",
    "L = runtime[0].L\n",
    "nl = runtime[0].nl"
   ]
  },
  {
   "cell_type": "code",
   "execution_count": null,
   "metadata": {},
   "outputs": [],
   "source": [
    "fig = plt.figure()\n",
    "\n",
    "for l in range(L+1):\n",
    "    freqs = layers[l].sorted_nodes\n",
    "    x = np.linspace(1, len(freqs), len(freqs))\n",
    "    plt.plot(x, freqs/np.sum(freqs), marker=\"o\", ms=20, lw=10, alpha=0.2)\n",
    "\n",
    "plt.plot(x, 1/x, color=\"gray\", lw=10, ls=\"--\")\n",
    "\n",
    "plt.xscale(\"log\")\n",
    "plt.yscale(\"log\")\n",
    "plt.xlabel(\"i\")\n",
    "plt.ylabel(\"fi\")\n",
    "fig.show()"
   ]
  },
  {
   "cell_type": "code",
   "execution_count": null,
   "metadata": {},
   "outputs": [],
   "source": [
    "#freqs = np.sort(np.concatenate([l.sorted_nodes for l in layers]).ravel())[::-1]\n",
    "#\n",
    "#plt.plot(x, freqs/np.sum(freqs), marker=\"o\", ms=20, c=\"gray\", lw=10, label=\"x^-1\")\n",
    "\n",
    "layer_of_interest = layers[1000]\n",
    "cnts = layer_of_interest.sorted_nodes/np.sum(layer_of_interest.sorted_nodes)\n",
    "plt.plot(np.linspace(1, len(layer_of_interest), len(layer_of_interest)), cnts, marker=\"o\", ms=20, c=\"blue\", lw=10, label=\"x^-1\")\n",
    "\n",
    "x = np.linspace(1, len(layer_of_interest), len(layer_of_interest))\n",
    "plt.plot(x, 1/x, lw=10, ls=\"--\")\n",
    "\n",
    "popt, pcov = curve_fit(lambda x, C, gamma: C * np.power(x, - gamma), x[50:10000], cnts[50:10000])\n",
    "plt.plot(x, popt[0]*np.power(x,-popt[1]), lw=10, ls=\"--\", label=f\"C*x^-{round(popt[1],3)}\")\n",
    "\n",
    "plt.xscale(\"log\")\n",
    "plt.yscale(\"log\")\n",
    "#plt.ylim(1e-8,1)\n",
    "plt.legend()"
   ]
  },
  {
   "cell_type": "code",
   "execution_count": null,
   "metadata": {},
   "outputs": [],
   "source": [
    "freqs = np.sort(np.unique(layers[-1].nodes,return_counts=True)[1])[::-1]\n",
    "x = np.linspace(1, len(freqs), len(freqs))\n",
    "plt.plot(x, freqs/np.sum(freqs), marker=\"o\", ms=20, c=\"gray\", lw=10, label=\"x^-1\")\n",
    "\n",
    "plt.plot(x, 1/x, lw=10, ls=\"--\")\n",
    "\n",
    "popt, pcov = curve_fit(lambda x, C, gamma: C * np.power(x, - gamma), x[5:], (freqs/np.sum(freqs))[5:])\n",
    "plt.plot(x, popt[0]*np.power(x,-popt[1]), lw=10, ls=\"--\", label=f\"C*x^-{round(popt[1],3)}\")\n",
    "\n",
    "\n",
    "plt.xscale(\"log\")\n",
    "plt.yscale(\"log\")\n",
    "#plt.ylim(1e-5,5e-1)\n",
    "plt.legend()"
   ]
  },
  {
   "cell_type": "code",
   "execution_count": null,
   "metadata": {},
   "outputs": [],
   "source": [
    "fig, axs = plt.subplots(1,5, figsize=(25,5))\n",
    "for i,ax in enumerate(axs):\n",
    "    loi = layers[i]\n",
    "    leaves = loi.nodes[:1000]\n",
    "    avg_leaves = loi.average\n",
    "    sns.heatmap(list(map(lambda leaf_A: list(map(lambda leaf_B: np.abs(leaf_A[1]-leaf_B[1])/avg_leaves if leaf_A[0] < leaf_B[0] else 0,enumerate(leaves))),enumerate(leaves))), ax=ax)"
   ]
  },
  {
   "cell_type": "markdown",
   "metadata": {},
   "source": [
    "Histogram of distances"
   ]
  },
  {
   "cell_type": "code",
   "execution_count": null,
   "metadata": {},
   "outputs": [],
   "source": [
    "type(analyses.run)"
   ]
  },
  {
   "cell_type": "code",
   "execution_count": null,
   "metadata": {},
   "outputs": [],
   "source": [
    "loi = layers[10]\n",
    "leaves = np.random.choice(loi.nodes,size=2000,replace=False)\n",
    "avg_leaves = loi.average\n",
    "distances = np.ravel(list(map(lambda leaf_A: list(map(lambda leaf_B: abs(leaf_A[1]-leaf_B[1])/avg_leaves if leaf_A[0] < leaf_B[0] else np.nan,enumerate(leaves))),enumerate(leaves))))\n",
    "distances = distances[~np.isnan(distances)]"
   ]
  },
  {
   "cell_type": "code",
   "execution_count": null,
   "metadata": {},
   "outputs": [],
   "source": [
    "fig = go.Figure()\n",
    "\n",
    "n_leaves = len(leaves)\n",
    "fig.add_trace(go.Histogram(x=distances, nbinsx=20, marker=dict(color=\"gray\"), histnorm=\"\"))\n",
    "\n",
    "fig.update_layout(xaxis=dict(tickfont_size=35),\n",
    "                 yaxis=dict(tickfont_size=35, type=\"log\"))\n",
    "\n",
    "fig.show()"
   ]
  },
  {
   "cell_type": "code",
   "execution_count": null,
   "metadata": {},
   "outputs": [],
   "source": [
    "np.average(np.abs(np.array(layers[-1].nodes)[1:]-layers[-1].nodes[:-1]))/layers[-1].average"
   ]
  },
  {
   "cell_type": "code",
   "execution_count": null,
   "metadata": {},
   "outputs": [],
   "source": [
    "L = 10\n",
    "nl = 3\n",
    "previous_layer = None\n",
    "M = []\n",
    "h = []\n",
    "nz = []\n",
    "for istat in range(1000):\n",
    "    if istat % (1000/10) == 0:\n",
    "            print(istat)\n",
    "    previous_layer = first_layer(\"l0\", nl)\n",
    "    previous_layer.sample()\n",
    "    for il,l in enumerate(range(L)):\n",
    "        new_layer = layer(f\"l{il+1}\", nl)\n",
    "        new_layer.sample(previous_layer)\n",
    "        previous_layer = new_layer\n",
    "    previous_layer = None\n",
    "    M.append(np.sum(new_layer.nodes))\n",
    "    h.append(len(np.unique(new_layer.nodes)))\n",
    "    nz.append((np.array(new_layer.nodes) > 0).sum())"
   ]
  },
  {
   "cell_type": "code",
   "execution_count": null,
   "metadata": {},
   "outputs": [],
   "source": [
    "x = np.linspace(min(M), max(M), 10)\n",
    "\n",
    "fig,ax = plt.subplots(1,2, figsize=(15,9))\n",
    "\n",
    "popt,pcov = curve_fit(lambda x, C, gamma: C*np.power(x,gamma), M, h)\n",
    "#ax[0].plot(x,popt[0]*np.power(x,popt[1]))\n",
    "print(popt)\n",
    "#ax[0].scatter(M,h)\n",
    "ax[0].scatter(M,nz)\n",
    "\n",
    "\n",
    "ax[0].set_xscale(\"log\")\n",
    "ax[0].set_yscale(\"log\")\n",
    "\n",
    "means, edges, _ = binned_statistic(M,h, statistic=\"mean\")\n",
    "var, edges, _ = binned_statistic(M,h, statistic=\"std\")\n",
    "var = var*var\n",
    "cnt, edges, _ = binned_statistic(M,h, statistic=\"count\")\n",
    "\n",
    "\n",
    "x = np.linspace(min(means), max(means), 10)\n",
    "ax[1].scatter(means,var)\n",
    "ax[1].plot(x,x)\n",
    "ax[1].plot(x,1e-2*x**2)\n",
    "\n",
    "ax[1].set_xscale(\"log\")\n",
    "ax[1].set_yscale(\"log\")"
   ]
  },
  {
   "cell_type": "code",
   "execution_count": null,
   "metadata": {},
   "outputs": [],
   "source": [
    "len(new_layer)"
   ]
  },
  {
   "cell_type": "code",
   "execution_count": null,
   "metadata": {},
   "outputs": [],
   "source": [
    "counts, _, _ = plt.hist(layers[-1].nodes, color=\"gray\")\n",
    "\n",
    "plt.yscale(\"log\")\n",
    "#plt.xscale(\"log\")\n",
    "plt.show()"
   ]
  },
  {
   "cell_type": "code",
   "execution_count": null,
   "metadata": {},
   "outputs": [],
   "source": [
    "m = 60\n",
    "n = m/(m-1)\n",
    "p = 1/m\n",
    "N = 1000\n",
    "counts, _, _ = plt.hist([rng.negative_binomial(n,p) for _ in range(N)], color=\"gray\")\n",
    "plt.vlines([n*(1-p)/p],1,1e4)\n",
    "plt.vlines([m],1,1e4, lw=5, color=\"red\", ls=\"--\")\n",
    "\n",
    "\n",
    "plt.yscale(\"log\")\n",
    "#plt.xscale(\"log\")\n",
    "plt.show()"
   ]
  },
  {
   "cell_type": "markdown",
   "metadata": {},
   "source": [
    "# Hyperparameters"
   ]
  },
  {
   "cell_type": "markdown",
   "metadata": {},
   "source": [
    "Gaussian scaling vs exponent L=50"
   ]
  },
  {
   "cell_type": "code",
   "execution_count": null,
   "metadata": {},
   "outputs": [],
   "source": [
    "fig = go.Figure()\n",
    "\n",
    "fig.add_scatter(x=scaling, y=scaling_exp)\n",
    "fig.add_trace(go.Scatter(x=[0,1],y=[1,1],mode=\"lines\",line = dict(width=5, dash=\"dash\")))\n",
    "\n",
    "fig.update_traces(marker_size=25, line_width=10)\n",
    "fig.update_layout(xaxis=dict(title=\"Scaling\", exponentformat = 'e', tickfont=dict(size=20), title_font_size=35),\n",
    "                  yaxis_title=\"Exponent\",\n",
    "                  yaxis=dict(tickfont=dict(size=20), title_font=dict(size=35)))\n",
    "fig.update_layout(showlegend=False)\n",
    "fig.show()\n",
    "fig.write_image(\"exp_scaling.png\")"
   ]
  },
  {
   "cell_type": "code",
   "execution_count": null,
   "metadata": {},
   "outputs": [],
   "source": [
    "fig = go.Figure()\n",
    "\n",
    "fig.add_scatter(x=variance, y=mean_distance, name=\"average distance\")\n",
    "#fig.add_scatter(x=variance, y=exponent, name=\"exponent\")\n",
    "\n",
    "fig.update_traces(marker_size=20)\n",
    "fig.update_layout(xaxis=dict(title=\"Variance\", exponentformat = 'e', tickfont=dict(size=20), title_font_size=35),\n",
    "                  yaxis_title=\"Average distance\",\n",
    "                  yaxis=dict(tickfont=dict(size=20), title_font=dict(size=35)),\n",
    "                 xaxis_type=\"log\")\n",
    "fig.show()\n",
    "fig.write_image(\"exp_scaling.pdf\")"
   ]
  },
  {
   "cell_type": "code",
   "execution_count": null,
   "metadata": {},
   "outputs": [],
   "source": [
    "avg = [np.average(np.abs(np.array(l.nodes)[1:]-l.nodes[:-1]))/l.average for l in layers]\n",
    "#maxs = [np.max(np.abs(np.array(l.nodes)[1:]-l.nodes[:-1]))/l.average for l in layers]\n",
    "\n",
    "fig = go.Figure()\n",
    "\n",
    "fig.add_scatter(y=avg, x=list(range(len(avg))), name=\"average distance\", line=dict(width=10, color=\"gray\"))\n",
    "#fig.add_scatter(y=maxs, x=list(range(len(avg))), name=\"maximum distance\", line=dict(width=10, color=\"gray\"))\n",
    "\n",
    "\n",
    "fig.update_traces(marker_size=20)\n",
    "fig.update_layout(xaxis=dict(title=\"Layer\", exponentformat = 'e', tickfont=dict(size=20), title_font_size=35),\n",
    "                  yaxis_title=\"Distance*\",\n",
    "                  yaxis=dict(tickfont=dict(size=20), title_font=dict(size=35)))\n",
    "fig.show()\n",
    "fig.write_image(\"distance_layer_negativem2.png\")"
   ]
  },
  {
   "cell_type": "markdown",
   "metadata": {},
   "source": [
    "## gamma"
   ]
  },
  {
   "cell_type": "code",
   "execution_count": null,
   "metadata": {},
   "outputs": [],
   "source": [
    "def get_exp(layer)->float:\n",
    "    try:\n",
    "        layer_of_interest = layer\n",
    "        cnts = layer_of_interest.sorted_nodes/np.sum(layer_of_interest.sorted_nodes)\n",
    "        x = np.linspace(1, len(layer_of_interest), len(layer_of_interest))\n",
    "\n",
    "        popt, pcov = curve_fit(lambda x, C, gamma: C * np.power(x, - gamma), x[5:10000], cnts[5:10000])\n",
    "        return popt[1]\n",
    "    except:\n",
    "        return None\n",
    "    \n",
    "exps = list(map(get_exp, layers))"
   ]
  },
  {
   "cell_type": "code",
   "execution_count": null,
   "metadata": {},
   "outputs": [],
   "source": [
    "x = np.linspace(1,len(layers),len(layers))\n",
    "\n",
    "fig = go.Figure()\n",
    "\n",
    "fig.add_scatter(x = x, y=exps, name=\"exponents\", line=dict(width=10, color=\"gray\"))\n",
    "fig.add_trace(go.Scatter(y=[1,1], x=[0,len(layers)], name=\"1\", mode=\"lines\", line=dict(width=10, color=\"blue\", dash=\"dash\")))\n",
    "\n",
    "\n",
    "fig.update_traces(marker_size=20)\n",
    "fig.update_layout(xaxis=dict(title=\"Layer\", exponentformat = 'e', tickfont=dict(size=20), title_font_size=35),\n",
    "                  yaxis_title=\"gamma\",\n",
    "                  yaxis=dict(range=(0,2.5),tickfont=dict(size=20), title_font=dict(size=35)))\n",
    "fig.show()"
   ]
  },
  {
   "cell_type": "code",
   "execution_count": null,
   "metadata": {},
   "outputs": [],
   "source": []
  }
 ],
 "metadata": {
  "kernelspec": {
   "display_name": "Python 3",
   "language": "python",
   "name": "python3"
  },
  "language_info": {
   "codemirror_mode": {
    "name": "ipython",
    "version": 3
   },
   "file_extension": ".py",
   "mimetype": "text/x-python",
   "name": "python",
   "nbconvert_exporter": "python",
   "pygments_lexer": "ipython3",
   "version": "3.8.5"
  }
 },
 "nbformat": 4,
 "nbformat_minor": 4
}
