{
 "cells": [
  {
   "cell_type": "code",
   "execution_count": null,
   "metadata": {},
   "outputs": [],
   "source": [
    "import numpy as np\n",
    "from scipy.optimize import curve_fit\n",
    "from scipy.stats import binned_statistic\n",
    "import matplotlib.pyplot as plt\n",
    "import plotly.express as px\n",
    "import plotly.graph_objects as go\n",
    "from plotly.subplots import make_subplots\n",
    "import seaborn as sns"
   ]
  },
  {
   "cell_type": "code",
   "execution_count": null,
   "metadata": {},
   "outputs": [],
   "source": [
    "from latentrees import *"
   ]
  },
  {
   "cell_type": "code",
   "execution_count": null,
   "metadata": {},
   "outputs": [],
   "source": [
    "def param_freezer(func, *args, **kwargs):\n",
    "    def wrapper(x):\n",
    "        return func(x, *args, **kwargs)\n",
    "    return wrapper"
   ]
  },
  {
   "cell_type": "code",
   "execution_count": null,
   "metadata": {},
   "outputs": [],
   "source": [
    "runtime = analyses()\n",
    "#runtime.append_model(L=50, distribution = lambda node: np.clip(round(rng.normal(node, abs(node)**0.25)),-1e10,1e10))\n",
    "for param in [2,3,4,5,6,7,8,9,10]:\n",
    "    #runtime.append_model(L=50, distribution = param_freezer(lambda node, param: np.clip(rng.normal(node, param), -1e15, 1e15), param), name=\"{:.2f}\".format(param))\n",
    "    runtime.append_model(nl=param, L=50, name=\"negative_binom_{:d}\".format(param))\n",
    "\n",
    "#runtime.append_model(L=50, distribution = lambda node: np.clip(rng.normal(node, abs(node)), -1e15, 1e15), name=\"gaus_scaling\")\n",
    "print(runtime)\n",
    "runtime.run()"
   ]
  },
  {
   "cell_type": "code",
   "execution_count": null,
   "metadata": {},
   "outputs": [],
   "source": [
    "loi_index = -1\n",
    "layers = runtime.models[loi_index].layers\n",
    "L = runtime[loi_index].L\n",
    "nl = runtime[loi_index].nl"
   ]
  },
  {
   "cell_type": "code",
   "execution_count": null,
   "metadata": {},
   "outputs": [],
   "source": [
    "fig = plt.figure()\n",
    "\n",
    "for l in range(L+1):\n",
    "    freqs = layers[l].sorted_nodes\n",
    "    x = np.linspace(1, len(freqs), len(freqs))\n",
    "    plt.plot(x, freqs/np.sum(freqs), marker=\"o\", ms=20, lw=10, alpha=0.2)\n",
    "\n",
    "plt.plot(x, 1/x, color=\"gray\", lw=10, ls=\"--\")\n",
    "\n",
    "plt.xscale(\"log\")\n",
    "plt.yscale(\"log\")\n",
    "plt.xlabel(\"i\")\n",
    "plt.ylabel(\"fi\")\n",
    "fig.show()"
   ]
  },
  {
   "cell_type": "code",
   "execution_count": null,
   "metadata": {},
   "outputs": [],
   "source": [
    "cnts.min()"
   ]
  },
  {
   "cell_type": "code",
   "execution_count": null,
   "metadata": {},
   "outputs": [],
   "source": [
    "layer_of_interest = layers[-1]\n",
    "cnts = layer_of_interest.sorted_nodes\n",
    "cnts = np.abs(cnts)\n",
    "cnts = cnts/cnts.sum()\n",
    "cnts = cnts[cnts>0]\n",
    "\n",
    "x = np.linspace(1, len(cnts), len(cnts))\n",
    "\n",
    "plt.plot(x, np.sort(cnts)[::-1], marker=\"o\", ms=20, c=\"blue\", lw=10, label=\"x^-1\")\n",
    "\n",
    "plt.plot(x, 1/x, lw=10, ls=\"--\")\n",
    "\n",
    "popt, pcov = curve_fit(lambda x, C, gamma: C * np.power(x, - gamma), x[10:2000], cnts[10:2000])\n",
    "plt.plot(x, popt[0]*np.power(x,-popt[1]), lw=10, ls=\"--\", label=f\"C*x^-{round(popt[1],3)}\")\n",
    "\n",
    "plt.xscale(\"log\")\n",
    "plt.yscale(\"log\")\n",
    "#plt.ylim(1e-8,1)\n",
    "plt.legend()"
   ]
  },
  {
   "cell_type": "code",
   "execution_count": null,
   "metadata": {},
   "outputs": [],
   "source": [
    "freqs = np.sort(np.unique(layers[-1].nodes,return_counts=True)[1])[::-1]\n",
    "x = np.linspace(1, len(freqs), len(freqs))\n",
    "plt.plot(x, freqs/np.sum(freqs), marker=\"o\", ms=20, c=\"gray\", lw=10, label=\"x^-1\")\n",
    "\n",
    "plt.plot(x, 1/x, lw=10, ls=\"--\")\n",
    "\n",
    "popt, pcov = curve_fit(lambda x, C, gamma: C * np.power(x, - gamma), x[5:], (freqs/np.sum(freqs))[5:])\n",
    "plt.plot(x, popt[0]*np.power(x,-popt[1]), lw=10, ls=\"--\", label=f\"C*x^-{round(popt[1],3)}\")\n",
    "\n",
    "\n",
    "plt.xscale(\"log\")\n",
    "plt.yscale(\"log\")\n",
    "#plt.ylim(1e-5,5e-1)\n",
    "plt.legend()"
   ]
  },
  {
   "cell_type": "code",
   "execution_count": null,
   "metadata": {},
   "outputs": [],
   "source": [
    "fig, axs = plt.subplots(1,5, figsize=(25,5))\n",
    "for i,ax in enumerate(axs):\n",
    "    loi = layers[i]\n",
    "    leaves = loi.nodes[:1000]\n",
    "    avg_leaves = loi.average\n",
    "    sns.heatmap(list(map(lambda leaf_A: list(map(lambda leaf_B: np.abs(leaf_A[1]-leaf_B[1])/avg_leaves if leaf_A[0] < leaf_B[0] else 0,enumerate(leaves))),enumerate(leaves))), ax=ax)"
   ]
  },
  {
   "cell_type": "markdown",
   "metadata": {},
   "source": [
    "## Histogram of distances"
   ]
  },
  {
   "cell_type": "code",
   "execution_count": null,
   "metadata": {},
   "outputs": [],
   "source": [
    "import multiprocessing as mp\n",
    "import gc\n",
    "def append_error(err):\n",
    "    print(err)\n",
    "        \n",
    "def append_dist(d):\n",
    "    global distances\n",
    "    distances.append(d)\n",
    "    \n",
    "def measure_func(leaf_A):\n",
    "    return list(map(lambda leaf_B: abs(leaf_A[1]-leaf_B[1]) if leaf_A[0] < leaf_B[0] else np.nan, enumerate(leaves)))"
   ]
  },
  {
   "cell_type": "code",
   "execution_count": null,
   "metadata": {},
   "outputs": [],
   "source": [
    "data = dict()\n",
    "for model in runtime:\n",
    "    loi = model.layers[-1]\n",
    "    N = 5000\n",
    "    if len(loi)>N:\n",
    "        leaves = np.random.choice(loi.nodes,size=N,replace=False)\n",
    "    else:\n",
    "        leaves = loi.nodes\n",
    "    norm_leaves = max(loi.nodes)\n",
    "    #print(norm_leaves)\n",
    "\n",
    "    distances = []\n",
    "    pool = mp.Pool(6) \n",
    "    res = pool.map_async(measure_func, enumerate(leaves), callback=append_dist, error_callback=append_error)\n",
    "    pool.close()\n",
    "    pool.join()\n",
    "    distances = np.ravel(distances)\n",
    "    #distances = np.ravel(list(map(lambda leaf: abs((leaf-avg_leaves)/norm_leave),enumerate(leaves))))\n",
    "    #distances=distances/max([np.nanmax(distances),abs(np.nanmin(distances))])\n",
    "    distances = distances[~np.isnan(distances)]\n",
    "    #distances = distances[distances>=0]\n",
    "\n",
    "    data[model.name]=distances\n",
    "    loi = None\n",
    "    gc.collect()"
   ]
  },
  {
   "cell_type": "code",
   "execution_count": null,
   "metadata": {},
   "outputs": [],
   "source": [
    "#import pickle\n",
    "#with open(\"data_distances.pkl\",\"wb\") as file:\n",
    "#    pickle.dump(data, file)\n",
    "#with open(\"data_distances.pkl\",\"rb\") as file:\n",
    "#    data = pickle.load(file)"
   ]
  },
  {
   "cell_type": "markdown",
   "metadata": {},
   "source": [
    "### distance vs param"
   ]
  },
  {
   "cell_type": "code",
   "execution_count": null,
   "metadata": {},
   "outputs": [],
   "source": [
    "scale_distances = False\n",
    "\n",
    "fig = go.Figure()\n",
    "\n",
    "n_leaves = len(leaves)\n",
    "for param,distances in data.items():\n",
    "    try:\n",
    "        if scale_distances:\n",
    "            distances=distances/max([np.quantile(distances, 0.99),abs(np.nanmin(distances))])\n",
    "            bins=np.linspace(0,np.quantile(distances, 0.99),10)\n",
    "        else:\n",
    "            bins=np.logspace(np.log10(distances[distances>1e-10].min()),np.log10(distances.max()), 10)\n",
    "        bins, edges = np.histogram(distances, bins=bins, density=True)\n",
    "        esges = (edges[1:]+edges[:1])/2\n",
    "        fig.add_trace(go.Scatter(x=edges,y=bins,  marker=dict(size=20), line=dict(width=10), name=param))\n",
    "    except:\n",
    "        pass\n",
    "    \n",
    "fig.update_layout(xaxis=dict(title=\"distances\", titlefont_size=35, tickfont_size=35, nticks= 5),\n",
    "                 yaxis=dict(title=\"pdf\", titlefont_size=35,tickfont_size=35, type=\"log\", exponentformat=\"e\", showexponent='all', nticks=4),\n",
    "                 legend=dict(x=1.01,y=1,borderwidth=0.5,font_size=15,orientation=\"v\"))\n",
    "\n",
    "if not scale_distances:\n",
    "    fig.update_xaxes(type=\"log\")\n",
    "fig.show()\n",
    "#fig.write_image(\"images/pdf_distances.pdf\")\n",
    "#fig.write_html(\"images/pdf_distances.html\")"
   ]
  },
  {
   "cell_type": "markdown",
   "metadata": {},
   "source": [
    "### Distance vs layer"
   ]
  },
  {
   "cell_type": "code",
   "execution_count": null,
   "metadata": {},
   "outputs": [],
   "source": [
    "fig = go.Figure()\n",
    "\n",
    "for loi in runtime[-1].layers[::10]:\n",
    "    N = 5000\n",
    "    if len(loi)>N:\n",
    "        leaves = np.random.choice(loi.nodes,size=N,replace=False)\n",
    "    else:\n",
    "        leaves = loi.nodes\n",
    "    avg_leaves = loi.median\n",
    "    \n",
    "    distances = []\n",
    "    pool = mp.Pool(6) \n",
    "    res = pool.map_async(measure_func, enumerate(leaves), callback=append_dist, error_callback=append_error)\n",
    "    pool.close()\n",
    "    pool.join()\n",
    "    distances = np.ravel(distances)\n",
    "    distances = distances[~np.isnan(distances)]\n",
    "    \n",
    "    n_leaves = len(leaves)\n",
    "\n",
    "    bins=np.logspace(np.log10(1e-3),np.log10(distances.max()), 15)\n",
    "    #bins=np.linspace(distances.min(),distances.max(),20)\n",
    "    bins, edges = np.histogram(distances, bins=bins, density=True)\n",
    "    esges = (edges[1:]+edges[:1])/2\n",
    "    fig.add_trace(go.Scatter(x=edges,y=bins,  marker=dict(size=20), line=dict(width=10), name=loi.__repr__().split(\",\")[0]))\n",
    "\n",
    "    gc.collect()\n",
    "    \n",
    "fig.update_layout(xaxis=dict(title=\"distances\", titlefont_size=35, tickfont_size=35, exponentformat=\"e\", type=\"log\", nticks= 4),\n",
    "                 yaxis=dict(title=\"pdf\", titlefont_size=35,tickfont_size=35, type=\"log\", exponentformat=\"e\", showexponent='all', nticks=4),\n",
    "                 legend=dict(x=1.01,y=1,borderwidth=0.5,font_size=15,orientation=\"v\"))\n",
    "\n",
    "fig.show()\n",
    "#fig.write_image(\"images/distance_pdf_layers.pdf\")\n",
    "#fig.write_html(\"images/distance_pdf_layers.html\")"
   ]
  },
  {
   "cell_type": "markdown",
   "metadata": {},
   "source": [
    "# Hyperparameters"
   ]
  },
  {
   "cell_type": "markdown",
   "metadata": {},
   "source": [
    "## gamma"
   ]
  },
  {
   "cell_type": "code",
   "execution_count": null,
   "metadata": {},
   "outputs": [],
   "source": [
    "def get_exp(layer)->float:\n",
    "    try:\n",
    "        layer_of_interest = layer\n",
    "        cnts = layer_of_interest.sorted_nodes/np.sum(layer_of_interest.sorted_nodes)\n",
    "        cnts = np.sort(np.abs(cnts))[::-1]\n",
    "        x = np.linspace(1, len(cnts), len(cnts))\n",
    "\n",
    "        popt, pcov = curve_fit(lambda x, C, gamma: C * np.power(x, - gamma), x[10:1000], cnts[10:1000])\n",
    "        return popt[1]\n",
    "    except:\n",
    "        return np.nan"
   ]
  },
  {
   "cell_type": "code",
   "execution_count": null,
   "metadata": {},
   "outputs": [],
   "source": [
    "exps = np.nanmean([list(map(get_exp, model.layers)) for model in [runtime[-1]]], axis=0)\n",
    "exps_errors = np.nanstd([list(map(get_exp, model.layers)) for model in [runtime[-1]]], axis=0)"
   ]
  },
  {
   "cell_type": "code",
   "execution_count": null,
   "metadata": {},
   "outputs": [],
   "source": [
    "x = np.linspace(1,len(layers),len(layers))\n",
    "\n",
    "fig = go.Figure()\n",
    "\n",
    "fig.add_scatter(x = x, y=exps, error_y=dict(type=\"data\", array=exps_errors, visible=True, width=8, thickness=3), name=\"exponents\", mode=\"lines\", marker=dict(size=10), line=dict(width=10, color=\"gray\"))\n",
    "fig.add_trace(go.Scatter(y=[1,1], x=[0,len(layers)], name=\"1\", mode=\"lines\", line=dict(width=10, color=\"blue\", dash=\"dash\")))\n",
    "\n",
    "\n",
    "fig.update_traces(marker_size=20)\n",
    "fig.update_layout(xaxis=dict(title=\"Layer\", exponentformat = 'e', tickfont=dict(size=20), title_font_size=35),\n",
    "                  yaxis_title=\"gamma\",\n",
    "                  yaxis=dict(range=(0,4.5),tickfont=dict(size=20), title_font=dict(size=35)),\n",
    "                 legend=dict(font_size=30, orientation=\"h\", x=0.5, y=1))\n",
    "fig.show()"
   ]
  },
  {
   "cell_type": "markdown",
   "metadata": {},
   "source": [
    "## nl"
   ]
  },
  {
   "cell_type": "code",
   "execution_count": null,
   "metadata": {},
   "outputs": [],
   "source": [
    "nls = [2,3,4,5,6,7,8,9,10]\n",
    "exps = list(map(lambda m: get_exp(m.layers[-1]), runtime))"
   ]
  },
  {
   "cell_type": "code",
   "execution_count": null,
   "metadata": {},
   "outputs": [],
   "source": [
    "fig = go.Figure()\n",
    "\n",
    "fig.add_scatter(x = nls, y=exps, name=\"exponents\", mode=\"lines\", marker=dict(size=10), line=dict(width=10, color=\"gray\"))\n",
    "fig.add_trace(go.Scatter(y=[1,1], x=[2,len(nls)+1], name=\"1\", mode=\"lines\", line=dict(width=10, color=\"blue\", dash=\"dash\")))\n",
    "\n",
    "\n",
    "fig.update_traces(marker_size=20)\n",
    "fig.update_layout(xaxis=dict(title=\"Number of <br> splits\", exponentformat = 'e', tickfont=dict(size=20), title_font_size=35),\n",
    "                  yaxis_title=\"gamma\",\n",
    "                  yaxis=dict(range=(0,4.5),tickfont=dict(size=20), title_font=dict(size=35)),\n",
    "                 legend=dict(font_size=30, orientation=\"h\", x=0.5, y=1))\n",
    "fig.show()"
   ]
  },
  {
   "cell_type": "markdown",
   "metadata": {},
   "source": [
    "## Heaps"
   ]
  },
  {
   "cell_type": "code",
   "execution_count": null,
   "metadata": {},
   "outputs": [],
   "source": [
    "h = [len(np.unique(m.layers[-1].nodes)) for m in runtime]\n",
    "M = np.array([np.sum(m.layers[-1].nodes) for m in runtime])"
   ]
  },
  {
   "cell_type": "code",
   "execution_count": null,
   "metadata": {},
   "outputs": [],
   "source": [
    "x = np.linspace(min(M), max(M), 10)\n",
    "\n",
    "fig = make_subplots(cols=2, rows=1)\n",
    "\n",
    "popt,pcov = curve_fit(lambda x, C, gamma: C*np.power(x,gamma), M, h)\n",
    "\n",
    "fig.add_scatter(x=M,y=h, mode=\"markers\", marker=dict(size=20, color=\"gray\"), showlegend=False, row=1, col=1)\n",
    "\n",
    "popt, pcov = curve_fit(lambda x, C, exp: C*np.power(x,exp), M, h)\n",
    "fig.add_scatter(x=M,y=popt[0]*np.power(M,popt[1]), mode=\"lines\", line=dict(width=10, color=\"red\", dash=\"dot\"), name=\"teo exp={:.2f}\".format(popt[1]), row=1, col=1)\n",
    "\n",
    "\n",
    "bins = np.logspace(np.log10(M.min()),np.log10(M.max()),15)\n",
    "means, edges, _ = binned_statistic(M,h, statistic=\"mean\", bins=bins)\n",
    "var, edges, _ = binned_statistic(M,h, statistic=\"std\", bins=bins)\n",
    "var = var*var\n",
    "cnt, edges, _ = binned_statistic(M,h, statistic=\"count\", bins=bins)\n",
    "\n",
    "mask = cnt > 10\n",
    "\n",
    "fig.add_scatter(x=(edges[1:]+edges[:-1])[mask]/2, y=means[mask], mode=\"markers+lines\", line=dict(width=10, color=\"blue\", dash=\"dot\"), marker=dict(size=15), name=\"binned avg\", row=1, col=1)\n",
    "\n",
    "\n",
    "fig.update_xaxes(type=\"log\", \n",
    "                 title=\"M\",\n",
    "                 title_font_size=30, \n",
    "                 tickfont_size=25, \n",
    "                 exponentformat=\"e\", \n",
    "                 showexponent=\"all\", \n",
    "                 tickangle=300,\n",
    "                 row=1, col=1)\n",
    "                 \n",
    "fig.update_yaxes(type=\"log\",\n",
    "                 title=\"h\",\n",
    "                 title_font_size=30, \n",
    "                 tickfont_size=25, \n",
    "                 nticks=5,\n",
    "                 row=1, col=1)\n",
    "\n",
    "x = np.linspace(min(means), max(means), 10)\n",
    "fig.add_trace(go.Scatter(x=means[mask],y=var[mask], mode=\"markers\", marker = dict(size=20),showlegend=False), row=1, col=2)\n",
    "fig.add_traces([\n",
    "    go.Scatter(x=x, y=x, name=\"Poisson\", mode=\"lines\", line=dict(width=10, dash=\"dashdot\")),\n",
    "    go.Scatter(x=x, y=x**2, name=\"Taylor\", mode=\"lines\", line=dict(width=10, dash=\"longdashdot\"))\n",
    "],rows=1, cols=2)\n",
    "\n",
    "fig.update_xaxes(type=\"log\", \n",
    "                 title=\"<h>\",\n",
    "                 title_font_size=30, \n",
    "                 tickfont_size=25, \n",
    "                 exponentformat=\"e\", \n",
    "                 showexponent=\"all\", \n",
    "                 tickangle=300,\n",
    "                 row=1, col=2)\n",
    "                 \n",
    "fig.update_yaxes(type=\"log\",\n",
    "                 title=\"var<h>\",\n",
    "                 title_font_size=30, \n",
    "                 tickfont_size=25, \n",
    "                 nticks=2,\n",
    "                 row=1, col=2)\n",
    "\n",
    "fig.update_layout(legend=dict(font_size=20, orientation=\"h\", x=0.1,y=1.2),width=1500, height=800)\n",
    "fig.show()\n",
    "fig.write_image(\"images/heaps.pdf\")\n",
    "fig.write_html(\"images/heaps.html\")"
   ]
  },
  {
   "cell_type": "code",
   "execution_count": null,
   "metadata": {},
   "outputs": [],
   "source": [
    "import gc\n",
    "gc.collect()"
   ]
  },
  {
   "cell_type": "code",
   "execution_count": null,
   "metadata": {},
   "outputs": [],
   "source": []
  }
 ],
 "metadata": {
  "kernelspec": {
   "display_name": "Python 3",
   "language": "python",
   "name": "python3"
  },
  "language_info": {
   "codemirror_mode": {
    "name": "ipython",
    "version": 3
   },
   "file_extension": ".py",
   "mimetype": "text/x-python",
   "name": "python",
   "nbconvert_exporter": "python",
   "pygments_lexer": "ipython3",
   "version": "3.8.6"
  }
 },
 "nbformat": 4,
 "nbformat_minor": 4
}
