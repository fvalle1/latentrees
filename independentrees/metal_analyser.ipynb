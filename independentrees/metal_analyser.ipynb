{
 "cells": [
  {
   "cell_type": "code",
   "execution_count": null,
   "metadata": {},
   "outputs": [],
   "source": [
    "import numpy as np\n",
    "import plotly.graph_objects as go\n",
    "from scipy.optimize import curve_fit\n",
    "import matplotlib.pyplot as plt"
   ]
  },
  {
   "cell_type": "code",
   "execution_count": null,
   "metadata": {},
   "outputs": [],
   "source": [
    "cnts = np.genfromtxt(\"opencl/randoms.dat\")\n",
    "cnts.shape"
   ]
  },
  {
   "cell_type": "code",
   "execution_count": null,
   "metadata": {},
   "outputs": [],
   "source": [
    "freqs = np.unique(cnts, return_counts=True)[1]\n",
    "\n",
    "freqs = freqs/freqs.sum()\n",
    "freqs = np.sort(freqs)[::-1]\n",
    "\n",
    "cnts = np.abs(cnts)\n",
    "#cnts = cnts[cnts<1e15]\n",
    "#cnts = cnts[cnts>0]\n",
    "cnts = cnts/cnts.sum()\n",
    "cnts = np.sort(cnts)[::-1]"
   ]
  },
  {
   "cell_type": "code",
   "execution_count": null,
   "metadata": {},
   "outputs": [],
   "source": [
    "fig = plt.figure(figsize=(18,10))\n",
    "\n",
    "y=cnts\n",
    "\n",
    "x = np.linspace(1, len(y), 100)\n",
    "plt.plot(y, lw=15)\n",
    "plt.plot(x,1e-1*1/x, lw=15, ls=\"--\", label=\"$r^-1$\")\n",
    "\n",
    "plt.tick_params(labelsize=35, size=10, width=5)\n",
    "\n",
    "plt.title(\"Frequenze vere\")\n",
    "plt.xscale(\"log\")\n",
    "plt.yscale(\"log\")\n",
    "plt.xlabel(\"i\", fontsize=35)\n",
    "plt.ylabel(\"fi\", fontsize=35)\n",
    "plt.legend(fontsize=35)\n",
    "plt.show()"
   ]
  },
  {
   "cell_type": "code",
   "execution_count": null,
   "metadata": {},
   "outputs": [],
   "source": [
    "fig = go.Figure()\n",
    "\n",
    "n = 500000\n",
    "mask = np.concatenate(([1],[10],np.sort(np.random.choice(np.linspace(0, len(cnts)-1, len(cnts), dtype = np.int64), size= n, replace=False))))\n",
    "x = mask\n",
    "y = cnts[mask]\n",
    "y = y/y.sum()\n",
    "\n",
    "fig.add_trace(go.Scatter(x=x, y=y, marker=dict(symbol=\"0\", size=20, color=\"blue\"), line_width=10, name=\"\", showlegend=False))\n",
    "fig.add_trace(go.Scatter(x=x, y=1/x, line_width=10, line_dash=\"dash\",name=\"x^-1\"))\n",
    "\n",
    "fit_func = lambda x, C, gamma: C * np.power(x, - gamma)\n",
    "\n",
    "#popt, pcov = curve_fit(fit_func, x[:10000], y[:10000])\n",
    "#fig.add_trace(go.Scatter(x=x, y=fit_func(x, *popt), line_width=10, line_dash=\"longdash\", name=f\"C*x^-{round(popt[1],3)}\"))\n",
    "\n",
    "#dd = np.diff(np.diff(cnts))\n",
    "#mask = np.argwhere((dd[1:]*dd[:-1]<0)).ravel()\n",
    "#fig.add_trace(go.Scatter(x=x[mask],y=cnts[mask],  name=f\"flexes\", mode=\"markers\"))\n",
    "\n",
    "fig.update_xaxes(type=\"log\", title=\"rank\")\n",
    "fig.update_yaxes(type=\"log\", exponentformat=\"e\", title=\"abs(leaf)/sum(leaves)\")\n",
    "\n",
    "fig.show()\n",
    "fig.write_image(\"leaves.pdf\")"
   ]
  },
  {
   "cell_type": "code",
   "execution_count": null,
   "metadata": {},
   "outputs": [],
   "source": [
    "istats = 1024\n",
    "sim = 1000"
   ]
  },
  {
   "cell_type": "code",
   "execution_count": null,
   "metadata": {},
   "outputs": [],
   "source": [
    "cnts = np.genfromtxt(\"opencl/randoms.dat\")\n",
    "cnts.reshape((istats,sim))"
   ]
  },
  {
   "cell_type": "code",
   "execution_count": null,
   "metadata": {},
   "outputs": [],
   "source": [
    "cnts.reshape((istats,sim))[1][:5],cnts.reshape((istats,sim))[3][:5],cnts.reshape((istats,sim))[-1][:5]"
   ]
  },
  {
   "cell_type": "code",
   "execution_count": null,
   "metadata": {},
   "outputs": [],
   "source": [
    "import plotly.express as px"
   ]
  },
  {
   "cell_type": "code",
   "execution_count": null,
   "metadata": {},
   "outputs": [],
   "source": [
    "px.histogram(cnts.reshape((istats,sim))[1])"
   ]
  },
  {
   "cell_type": "code",
   "execution_count": null,
   "metadata": {},
   "outputs": [],
   "source": [
    "px.scatter(cnts.reshape((istats,sim))[2],cnts.reshape((istats,sim))[4])"
   ]
  },
  {
   "cell_type": "code",
   "execution_count": null,
   "metadata": {},
   "outputs": [],
   "source": []
  }
 ],
 "metadata": {
  "interpreter": {
   "hash": "31f2aee4e71d21fbe5cf8b01ff0e069b9275f58929596ceb00d14d90e3e16cd6"
  },
  "kernelspec": {
   "display_name": "Python 3 (ipykernel)",
   "language": "python",
   "name": "python3"
  },
  "language_info": {
   "codemirror_mode": {
    "name": "ipython",
    "version": 3
   },
   "file_extension": ".py",
   "mimetype": "text/x-python",
   "name": "python",
   "nbconvert_exporter": "python",
   "pygments_lexer": "ipython3",
   "version": "3.8.5"
  }
 },
 "nbformat": 4,
 "nbformat_minor": 4
}
